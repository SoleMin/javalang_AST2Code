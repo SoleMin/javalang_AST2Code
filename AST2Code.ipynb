{
 "cells": [
  {
   "cell_type": "code",
   "execution_count": 126,
   "metadata": {},
   "outputs": [],
   "source": [
    "import javalang\n",
    "import pandas as pd\n",
    "# from func import *\n",
    "from tqdm import tqdm"
   ]
  },
  {
   "cell_type": "code",
   "execution_count": 345,
   "metadata": {},
   "outputs": [],
   "source": [
    "data=pd.read_csv('complexity_data/finalFeatureData.csv').dropna()\n",
    "file_data=list(data['file_name'])"
   ]
  },
  {
   "cell_type": "code",
   "execution_count": 346,
   "metadata": {},
   "outputs": [
    {
     "name": "stderr",
     "output_type": "stream",
     "text": [
      " 21%|██        | 192/929 [00:03<00:12, 58.28it/s]"
     ]
    },
    {
     "name": "stdout",
     "output_type": "stream",
     "text": [
      "0 miss match\n",
      "6 miss match\n",
      "7 miss match\n",
      "49 miss match\n",
      "53 miss match\n",
      "79 miss match\n",
      "91 miss match\n",
      "107 miss match\n",
      "111 miss match\n",
      "117 miss match\n",
      "130 miss match\n",
      "156 miss match\n",
      "162 miss match\n",
      "783.java\n"
     ]
    },
    {
     "name": "stderr",
     "output_type": "stream",
     "text": [
      "\n"
     ]
    }
   ],
   "source": [
    "for f_n in tqdm(file_data):\n",
    "    if not f_n in ['925.java','996.java']:\n",
    "\n",
    "        f = open('complexity_data/origin/' + f_n)\n",
    "        source = f.read()\n",
    "        f.close()\n",
    "        tree = javalang.parse.parse(source)\n",
    "        try:\n",
    "            if not (equal_test(tree)):\n",
    "                print(f_n)\n",
    "                break\n",
    "        except:\n",
    "            print(f_n)\n",
    "            break"
   ]
  },
  {
   "cell_type": "code",
   "execution_count": 103,
   "metadata": {},
   "outputs": [
    {
     "name": "stdout",
     "output_type": "stream",
     "text": [
      "EnhancedForControl(iterable=MemberReference(member=list, postfix_operators=[], prefix_operators=[], qualifier=, selectors=[]), var=VariableDeclaration(annotations=[], declarators=[VariableDeclarator(dimensions=None, initializer=None, name=s)], modifiers=set(), type=ReferenceType(arguments=None, dimensions=[], name=String, sub_type=None)))\n"
     ]
    }
   ],
   "source": [
    "sample=[]\n",
    "par_arr=[]\n",
    "for _,node in tree:\n",
    "    \n",
    "    if type(node)== javalang.tree.EnhancedForControl:\n",
    "        print(node)\n",
    "        sample.append(node)\n",
    "        par_arr.append(par)\n",
    "    par=node\n",
    "        "
   ]
  },
  {
   "cell_type": "code",
   "execution_count": null,
   "metadata": {},
   "outputs": [],
   "source": [
    "['prefix_operators',\n",
    " 'postfix_operators',\n",
    " 'qualifier',\n",
    " 'selectors',\n",
    " 'type_arguments',\n",
    " 'arguments']"
   ]
  },
  {
   "cell_type": "code",
   "execution_count": 347,
   "metadata": {},
   "outputs": [],
   "source": [
    "f = open('complexity_data/origin/783.java')\n",
    "source = f.read()\n",
    "f.close()\n",
    "tree=javalang.parse.parse(source)\n",
    "root=tree.__iter__().__next__()[1]"
   ]
  },
  {
   "cell_type": "code",
   "execution_count": 338,
   "metadata": {},
   "outputs": [],
   "source": [
    "func_dict={\"ClassCreator\":ClassCreator2Code,\n",
    "\"Literal\":Literal2Code,\n",
    "    'BinaryOperation':BinaryOperation2Code,\n",
    "    'MemberReference':MemberReference2Code,\n",
    "    'BlockStatement':BlockStatement2Code,\n",
    "    'LocalVariableDeclaration':LocalVariableDeclaration2Code,\n",
    "    'VariableDeclaration':VariableDeclaration2Code,\n",
    "    'VariableDeclarator':VariableDeclarator2Code,\n",
    "    'ArrayCreator': ArrayCreator2Code,\n",
    "    'StatementExpression':StatementExpression2Code,\n",
    "    'ArraySelector':ArraySelector2Code,\n",
    "    'MethodInvocation':MethodInvocation2Code,\n",
    "    'Assignment':Assignment2Code,\n",
    "    'IfStatement':IfStatement2Code,\n",
    "    'ForStatement':ForStatement2Code,\n",
    "    'MethodDeclaration':MethodDeclaration2Code,\n",
    "    'Cast':Cast2Code,\n",
    "    'ReturnStatement':ReturnStatement2Code,\n",
    "    'ClassDeclaration':ClassDeclaration2Code,\n",
    "    'FieldDeclaration':FieldDeclaration2Code,\n",
    "    'NoneType':Nonetype,\n",
    "    'ConstructorDeclaration':ConstructorDeclaration2Code,\n",
    "    'WhileStatement':WhileStatement2Code,\n",
    "    'TryStatement':TryStatement2Code,\n",
    "    'CatchClauseParameter':CatchClauseParameter2Code,\n",
    "    'ThrowStatement':ThrowStatement2Code,\n",
    "    'CatchClause':CatchClause2Code,\n",
    "    'TryResource':TryResource2Code,\n",
    "    'This':This2Code,\n",
    "    'TernaryExpression':TernaryExpression2Code,\n",
    "    'BreakStatement':BreakStatement2Code,\n",
    "    'ExplicitConstructorInvocation':ExplicitConstructorInvocation2Code,\n",
    "    'DoStatement':DoStatement2Code,\n",
    "    'InterfaceDeclaration':InterfaceDeclaration2Code,\n",
    "    'ContinueStatement':ContinueStatement2Code,\n",
    "    'Statement':Statement2Code,\n",
    "    'ArrayInitializer':ArrayInitializer2Code,\n",
    "    'SuperConstructorInvocation':SuperConstructorInvocation2Code,\n",
    "    'SwitchStatement':SwitchStatement2Code,\n",
    "    'EnhancedForControl':EnhancedForControl2Code,\n",
    "    'ForControl':ForControl2Code,\n",
    "    'ReferenceType':Type2Code\n",
    "}"
   ]
  },
  {
   "cell_type": "code",
   "execution_count": 334,
   "metadata": {},
   "outputs": [],
   "source": [
    "tree2=javalang.parse.parse(AST2Code(root))"
   ]
  },
  {
   "cell_type": "code",
   "execution_count": 339,
   "metadata": {},
   "outputs": [
    {
     "name": "stdout",
     "output_type": "stream",
     "text": [
      "LocalVariableDeclaration(annotations=[], declarators=[VariableDeclarator(dimensions=[None], initializer=ArrayInitializer(initializers=[Literal(postfix_operators=[], prefix_operators=[], qualifier=None, selectors=[], value=1), Literal(postfix_operators=[], prefix_operators=[], qualifier=None, selectors=[], value=2), Literal(postfix_operators=[], prefix_operators=[], qualifier=None, selectors=[], value=4), Literal(postfix_operators=[], prefix_operators=[], qualifier=None, selectors=[], value=5), Literal(postfix_operators=[], prefix_operators=[], qualifier=None, selectors=[], value=7), Literal(postfix_operators=[], prefix_operators=[], qualifier=None, selectors=[], value=8)]), name=arr1)], modifiers={'final'}, type=BasicType(dimensions=[], name=int))\n",
      "\n",
      "LocalVariableDeclaration(annotations=[], declarators=[VariableDeclarator(dimensions=[None], initializer=ArrayInitializer(initializers=[Literal(postfix_operators=[], prefix_operators=[], qualifier=None, selectors=[], value=1), Literal(postfix_operators=[], prefix_operators=[], qualifier=None, selectors=[], value=2), Literal(postfix_operators=[], prefix_operators=[], qualifier=None, selectors=[], value=4), Literal(postfix_operators=[], prefix_operators=[], qualifier=None, selectors=[], value=5), Literal(postfix_operators=[], prefix_operators=[], qualifier=None, selectors=[], value=7), Literal(postfix_operators=[], prefix_operators=[], qualifier=None, selectors=[], value=8)]), name=arr1)], modifiers={'final'}, type=BasicType(dimensions=[], name=int))\n",
      "True\n"
     ]
    }
   ],
   "source": [
    "tree2=javalang.parse.parse(AST2Code(root))\n",
    "idx=76\n",
    "\n",
    "list_tree=[]\n",
    "list_tree2=[]\n",
    "for _,node in tree:\n",
    "    list_tree.append(node)\n",
    "for _,node in tree2:\n",
    "    list_tree2.append(node)\n",
    "\n",
    "print(list_tree[idx],end='\\n\\n')\n",
    "print(list_tree2[idx])\n",
    "print(str(list_tree[idx]) == str(list_tree2[idx]))"
   ]
  },
  {
   "cell_type": "code",
   "execution_count": 341,
   "metadata": {},
   "outputs": [
    {
     "data": {
      "text/plain": [
       "True"
      ]
     },
     "execution_count": 341,
     "metadata": {},
     "output_type": "execute_result"
    }
   ],
   "source": [
    "equal_test(tree)"
   ]
  },
  {
   "cell_type": "code",
   "execution_count": 340,
   "metadata": {},
   "outputs": [
    {
     "name": "stdout",
     "output_type": "stream",
     "text": [
      "package com.interview.binarysearch;\n",
      "/**\n",
      " * Regular binary search\n",
      " */\n",
      "public  class BinarySearch{\n",
      "public int search(final int[] input, int search){\n",
      " int low  = 0; \n",
      " int high  = (input.length - 1); \n",
      " int mid ; \n",
      "while((low <= high)){mid = (low + ((high - low) / 2));\n",
      "if ( (input[mid] == search))\n",
      "{return mid;}\n",
      "else if ( (input[mid] < search))\n",
      "{low = (mid + 1);\n",
      "}\n",
      "else {high = (mid - 1);\n",
      "}}return -1;}\n",
      "public static void main( String[] args){\n",
      " BinarySearch bSearch  = new BinarySearch(); \n",
      "final int arr1[]  = {1,2,4,5,7,8}; \n",
      "System.out.println(bSearch.search(arr1,-1));\n",
      "System.out.println(bSearch.search(arr1,1));\n",
      "System.out.println(bSearch.search(arr1,8));\n",
      "System.out.println(bSearch.search(arr1,2));\n",
      "}\n",
      "}\n"
     ]
    }
   ],
   "source": [
    "print(AST2Code(root))"
   ]
  },
  {
   "cell_type": "code",
   "execution_count": 2,
   "metadata": {},
   "outputs": [],
   "source": [
    "def equal_test(tree1):\n",
    "\n",
    "    list_tree=[]\n",
    "    list_tree2=[]\n",
    "    root=tree.__iter__().__next__()[1]\n",
    "    tree2=javalang.parse.parse(AST2Code(root))\n",
    "    for _,node in tree1:\n",
    "        list_tree.append(node)\n",
    "    for _,node in tree2:\n",
    "        list_tree2.append(node)\n",
    "    \n",
    "    if len(list_tree) != len(list_tree2):\n",
    "        print('length miss match!')\n",
    "        return False\n",
    "    match=True\n",
    "    for idx in range(len(list_tree)):\n",
    "        if str(list_tree[idx]) != str(list_tree2[idx]):\n",
    "            print(f'{idx } miss match')\n",
    "            match=False\n",
    "    if match:\n",
    "        return True\n",
    "    else:\n",
    "        return False\n",
    "            \n",
    "    "
   ]
  },
  {
   "cell_type": "code",
   "execution_count": 316,
   "metadata": {},
   "outputs": [],
   "source": [
    "def AST2Code(root):\n",
    "    code=''\n",
    "\n",
    "    if root.package:\n",
    "        code+= 'package '+root.package.name+';\\n'\n",
    "    for import_item in root.imports:\n",
    "        code+= 'import '+('static ' if import_item.static else '') +import_item.path+ ('.*' if import_item.wildcard else '') + ';\\n'\n",
    "    childs=root.types\n",
    "    for child in root.types:\n",
    "        code+=func_dict[type(child).__name__](child)\n",
    "    return code"
   ]
  },
  {
   "cell_type": "code",
   "execution_count": 4,
   "metadata": {},
   "outputs": [],
   "source": [
    "def Nonetype(node):\n",
    "    return ''"
   ]
  },
  {
   "cell_type": "code",
   "execution_count": 5,
   "metadata": {},
   "outputs": [],
   "source": [
    "def FieldDeclaration2Code(node):\n",
    "    code_snippet=''\n",
    "    \n",
    "    # for modifier in node.modifiers:\n",
    "    #     code_snippet+=modifier+' '\n",
    "\n",
    "    modifier_arr=[]\n",
    "    for modifier in node.modifiers:\n",
    "        modifier_arr.append(modifier)\n",
    "    code_snippet+=' '.join(reversed(modifier_arr)) +' '\n",
    "    \n",
    "    code_snippet+=Type2Code(node.type)+' '\n",
    "    for declarator in node.declarators:\n",
    "        code_snippet+= func_dict[type(declarator).__name__](declarator)+','\n",
    "    code_snippet=code_snippet.rstrip(',')\n",
    "\n",
    "    return code_snippet+';\\n'"
   ]
  },
  {
   "cell_type": "code",
   "execution_count": 6,
   "metadata": {},
   "outputs": [],
   "source": [
    "def WhileStatement2Code(node):\n",
    "    code_snippet='while('+func_dict[type(node.condition).__name__](node.condition)+')'\n",
    "    code_snippet+=func_dict[type(node.body).__name__](node.body)\n",
    "    return code_snippet"
   ]
  },
  {
   "cell_type": "code",
   "execution_count": 7,
   "metadata": {},
   "outputs": [],
   "source": [
    "def ConstructorDeclaration2Code(node):\n",
    "    code_snippet=''\n",
    "    for modifier in node.modifiers:\n",
    "        code_snippet+=' '+modifier\n",
    "    code_snippet+=' '+ node.name\n",
    "    code_snippet=code_snippet.lstrip()\n",
    "    paramter=''\n",
    "    for pram in node.parameters:\n",
    "        paramter+=pram.type.name + ('[]'*len(pram.type.dimensions)) +' '+ pram.name +','\n",
    "    code_snippet+='('+paramter.rstrip(',')+')'\n",
    "    code_snippet+= ('throws ' +','.join(node.throws) if node.throws else '')\n",
    "    code_snippet+='{\\n'\n",
    "    for child in node.body:\n",
    "        code_snippet+= func_dict[type(child).__name__](child)\n",
    "    return code_snippet+'}\\n'"
   ]
  },
  {
   "cell_type": "code",
   "execution_count": 8,
   "metadata": {},
   "outputs": [],
   "source": [
    "def ClassDeclaration2Code(node):\n",
    "    code_snippet=(node.documentation+'\\n' if node.documentation else '')\n",
    "    modifier_arr=[]\n",
    "    for modifier in node.modifiers:\n",
    "        modifier_arr.append(modifier)\n",
    "    code_snippet+=' '.join(reversed(modifier_arr)) +' '\n",
    "\n",
    "    # for modifier in node.modifiers:\n",
    "    #     code_snippet+=modifier+' ' \n",
    "    code_snippet+=' class '+node.name\n",
    "    if node.type_parameters:\n",
    "        code_snippet+='<'\n",
    "        for param in node.type_parameters:\n",
    "            code_snippet+=param.name+','\n",
    "        \n",
    "        code_snippet=code_snippet.rstrip(',') +'>'\n",
    "    if node.implements:\n",
    "        code_snippet+=' implements '\n",
    "        for implement in node.implements:\n",
    "            code_snippet+=Type2Code(implement)\n",
    "\n",
    "    if node.extends:\n",
    "        code_snippet+=' extends '+Type2Code(node.extends)\n",
    "    code_snippet+='{\\n'\n",
    "    for class_item in node.body:\n",
    "        code_snippet+=func_dict[type(class_item).__name__](class_item)\n",
    "\n",
    "    return code_snippet+\"}\""
   ]
  },
  {
   "cell_type": "code",
   "execution_count": 157,
   "metadata": {},
   "outputs": [],
   "source": [
    "def MethodDeclaration2Code(node):\n",
    "    code_snippet=(node.documentation+'\\n' if node.documentation else '')\n",
    "    if node.annotations:\n",
    "        for annotation in node.annotations:\n",
    "            code_snippet+='@'+annotation.name+'\\n'\n",
    "    code_snippet+=' '.join(reversed(list(node.modifiers))) +' '\n",
    "\n",
    "    \n",
    "    if node.type_parameters:\n",
    "        code_snippet+='<'\n",
    "        for type_param in node.type_parameters:\n",
    "            code_snippet+=type_param.name+','\n",
    "        code_snippet=code_snippet.rstrip(',')+'> '\n",
    "        \n",
    "    code_snippet+=(Type2Code(node.return_type) if node.return_type else 'void')+' '+node.name+'('\n",
    "    paramter=''\n",
    "    \n",
    "    for pram in node.parameters:\n",
    "        paramter+=' '.join(reversed(list(pram.modifiers))) +' '\n",
    "        paramter+=Type2Code(pram.type)\n",
    "        paramter+=('...' if pram.varargs else '')\n",
    "        paramter+=' '+ pram.name +','\n",
    "\n",
    "    code_snippet+= paramter.rstrip(',')+')'+('throws ' +','.join(node.throws)+' ' if node.throws else '')\n",
    "    code_snippet += '{\\n'\n",
    "    if node.body:\n",
    "        \n",
    "        for method_item in node.body:\n",
    "            code_snippet+=func_dict[type(method_item).__name__](method_item)\n",
    "    code_snippet+= '}\\n'\n",
    "    return code_snippet\n"
   ]
  },
  {
   "cell_type": "code",
   "execution_count": 10,
   "metadata": {},
   "outputs": [],
   "source": [
    "def InterfaceDeclaration2Code(node):\n",
    "    code_snippet=(node.documentation+'\\n' if node.documentation else '')\n",
    "    if node.annotations:\n",
    "        for annotation in node.annotations:\n",
    "            code_snippet+='@'+annotation.name+'\\n'\n",
    "    for modifier in node.modifiers:\n",
    "        code_snippet+=modifier+' ' \n",
    "\n",
    "    code_snippet+=' interface '+node.name+'{'\n",
    "    for b in node.body:\n",
    "        code_snippet+=func_dict[type(b).__name__](b).rstrip('{\\n}\\n')+';\\n'\n",
    "    code_snippet+='}'\n",
    "    return code_snippet"
   ]
  },
  {
   "cell_type": "code",
   "execution_count": 337,
   "metadata": {},
   "outputs": [],
   "source": [
    "def LocalVariableDeclaration2Code(node):\n",
    "    code_snippet=' '.join(reversed(list(node.modifiers))) +' '\n",
    "    code_snippet+=Type2Code(node.type)+' '\n",
    "    for declarator in node.declarators:\n",
    "        code_snippet += func_dict[type(declarator).__name__](declarator) +','\n",
    "    code_snippet=code_snippet.rstrip(',')\n",
    "    return code_snippet+'; \\n'"
   ]
  },
  {
   "cell_type": "code",
   "execution_count": 12,
   "metadata": {},
   "outputs": [],
   "source": [
    "def VariableDeclarator2Code(node):\n",
    "    code_snippet=node.name\n",
    "    code_snippet+=('[]'*len(node.dimensions) if node.dimensions else '')+' ' \n",
    "    \n",
    "    if node.initializer:\n",
    "        code_snippet+= ' = '+func_dict[type(node.initializer).__name__](node.initializer)\n",
    "    return code_snippet#+';\\n'"
   ]
  },
  {
   "cell_type": "code",
   "execution_count": 13,
   "metadata": {},
   "outputs": [],
   "source": [
    "def VariableDeclaration2Code(node):\n",
    "\n",
    "    code_snippet=''\n",
    "    code_snippet+=Type2Code(node.type)+' '\n",
    "    operandr=''\n",
    "    operandl=''\n",
    "\n",
    "    # for declarator in node.declarators:\n",
    "    #     operandr+=declarator.name +','\n",
    "    #     operandl += func_dict[type(declarator.initializer).__name__](declarator.initializer)+','\n",
    "    for declarator in node.declarators:\n",
    "        operandl += func_dict[type(declarator).__name__](declarator)+','\n",
    "        \n",
    "    # code_snippet +=operandr.rstrip(',')+' = '+operandl.rstrip(',')\n",
    "    code_snippet +=operandr.rstrip(',')+operandl.rstrip(',')\n",
    "    return code_snippet#+';\\n'\n",
    "    "
   ]
  },
  {
   "cell_type": "code",
   "execution_count": 14,
   "metadata": {},
   "outputs": [],
   "source": [
    "def Type2Code(node):\n",
    "\n",
    "    if type(node).__name__ == 'BasicType':\n",
    "        return node.name +('[]'*len(node.dimensions) if node.dimensions else '')\n",
    "    elif type(node).__name__ == 'ReferenceType':\n",
    "        code_snippet=node.name +('[]'*len(node.dimensions) if node.dimensions else '')\n",
    "        # if node.name in ['HashMap','HashSet']:\n",
    "        if node.arguments != None:\n",
    "            code_snippet+='<'\n",
    "            for arg in node.arguments:\n",
    "                if arg.pattern_type:\n",
    "                    code_snippet+=arg.pattern_type+','\n",
    "                if arg.type:\n",
    "                    code_snippet+=Type2Code(arg.type)+','\n",
    "            code_snippet=code_snippet.rstrip(',')+'>'\n",
    "        if node.sub_type:\n",
    "            code_snippet+='.'+Type2Code(node.sub_type)\n",
    "\n",
    "        return code_snippet"
   ]
  },
  {
   "cell_type": "code",
   "execution_count": 282,
   "metadata": {},
   "outputs": [],
   "source": [
    "def ClassCreator2Code(node):# 미완\n",
    "    \n",
    "    argments='('\n",
    "    for arg in node.arguments:\n",
    "        argments+=func_dict[type(arg).__name__](arg)+','\n",
    "    \n",
    "    argments=argments.rstrip(',')+')'\n",
    "    code_snippet='new '+Type2Code(node.type)+argments\n",
    "    if node.selectors:\n",
    "        for index in node.selectors:\n",
    "            if type(index).__name__ != 'ArraySelector':\n",
    "                code_snippet+='.'    \n",
    "            code_snippet+=func_dict[type(index).__name__](index)\n",
    "    if node.body:\n",
    "        code_snippet+='{'\n",
    "        for b in node.body:\n",
    "            code_snippet+=func_dict[type(b).__name__](b)\n",
    "        code_snippet+='}'\n",
    "    return code_snippet"
   ]
  },
  {
   "cell_type": "code",
   "execution_count": 16,
   "metadata": {},
   "outputs": [],
   "source": [
    "def MemberReference2Code(node):\n",
    "    \n",
    "    code_snippet=(''.join(node.prefix_operators) if node.prefix_operators else '')+(node.qualifier+'.' if node.qualifier else '')+node.member \n",
    "    selector=''\n",
    "    if node.selectors:\n",
    "        for index in node.selectors:\n",
    "            if type(index).__name__ != 'ArraySelector':\n",
    "                selector+='.'    \n",
    "            selector+=func_dict[type(index).__name__](index)\n",
    "    code_snippet+=selector\n",
    "    return code_snippet+(''.join(node.postfix_operators) if node.postfix_operators else '')"
   ]
  },
  {
   "cell_type": "code",
   "execution_count": 104,
   "metadata": {},
   "outputs": [],
   "source": [
    "def ForStatement2Code(node):\n",
    "    code_snippet='for ( '\n",
    "    code_snippet+=func_dict[type(node.control).__name__](node.control)\n",
    "    # control= node.control\n",
    "    # if node.control.init:\n",
    "    #     if type(node.control.init) == list:\n",
    "    #         code_snippet+= ''.join([func_dict[type(i).__name__](i).rstrip(';\\n') for i in node.control.init])\n",
    "    #     else:\n",
    "    #         code_snippet+=func_dict[type(node.control.init).__name__](node.control.init).rstrip(';\\n')\n",
    "    \n",
    "    # code_snippet+=';'\n",
    "    # if node.control.condition:\n",
    "    #     code_snippet+=func_dict[type(node.control.condition).__name__](node.control.condition)\n",
    "    # code_snippet +=';'\n",
    "    # if node.control.update:\n",
    "    #     for update in node.control.update:\n",
    "    #         code_snippet+=func_dict[type(update).__name__](update)\n",
    "    code_snippet+= ')\\n'\n",
    "    \n",
    "    code_snippet+= func_dict[type(node.body).__name__](node.body)\n",
    "        \n",
    "    return code_snippet"
   ]
  },
  {
   "cell_type": "code",
   "execution_count": 119,
   "metadata": {},
   "outputs": [],
   "source": [
    "def ForControl2Code(node):\n",
    "    code_snippet=''\n",
    "    if node.init:\n",
    "        if type(node.init) == list:\n",
    "            code_snippet+= ''.join([func_dict[type(i).__name__](i).rstrip(';\\n') for i in node.init])\n",
    "        else:\n",
    "            code_snippet+=func_dict[type(node.init).__name__](node.init).rstrip(';\\n')\n",
    "    \n",
    "    code_snippet+=';'\n",
    "    if node.condition:\n",
    "        code_snippet+=func_dict[type(node.condition).__name__](node.condition)\n",
    "    code_snippet +=';'\n",
    "    if node.update:\n",
    "        for update in node.update:\n",
    "            code_snippet+=func_dict[type(update).__name__](update)\n",
    "    return code_snippet"
   ]
  },
  {
   "cell_type": "code",
   "execution_count": 115,
   "metadata": {},
   "outputs": [],
   "source": [
    "def EnhancedForControl2Code(node):\n",
    "    code_snippet=''\n",
    "    code_snippet+=func_dict[type(node.var).__name__](node.var)+':'\n",
    "    code_snippet+=func_dict[type(node.iterable).__name__](node.iterable)\n",
    "    return code_snippet"
   ]
  },
  {
   "cell_type": "code",
   "execution_count": 18,
   "metadata": {},
   "outputs": [],
   "source": [
    "def IfStatement2Code(node):\n",
    "    code_snippet='if ( '\n",
    "    code_snippet+= func_dict[type(node.condition).__name__](node.condition)+')'\n",
    "    code_snippet+='\\n'+func_dict[type(node.then_statement).__name__](node.then_statement)+'\\n'\n",
    "    if node.else_statement:\n",
    "        code_snippet+='else '+func_dict[type(node.else_statement).__name__](node.else_statement)\n",
    "    return code_snippet\n",
    "    \n",
    "    "
   ]
  },
  {
   "cell_type": "code",
   "execution_count": 19,
   "metadata": {},
   "outputs": [],
   "source": [
    "def BlockStatement2Code(node):\n",
    "    code_snippet=\"{\"\n",
    "    for block_item in node.statements:\n",
    "        code_snippet+=func_dict[type(block_item).__name__](block_item)\n",
    "    code_snippet+=\"}\"\n",
    "    return code_snippet\n",
    "    "
   ]
  },
  {
   "cell_type": "code",
   "execution_count": 20,
   "metadata": {},
   "outputs": [],
   "source": [
    "def BinaryOperation2Code(node):\n",
    "    code_snippet=func_dict[type(node.operandl).__name__](node.operandl)\n",
    "    code_snippet+=' ' +node.operator +' '\n",
    "    code_snippet+=func_dict[type(node.operandr).__name__](node.operandr)\n",
    "    return '('+code_snippet+')'"
   ]
  },
  {
   "cell_type": "code",
   "execution_count": 21,
   "metadata": {},
   "outputs": [],
   "source": [
    "def Literal2Code(node):\n",
    "\n",
    "    prefix=''.join(node.prefix_operators if node.prefix_operators else '')\n",
    "    postfix=''.join(node.postfix_operators if node.postfix_operators else '')\n",
    "\n",
    "    return prefix+node.value+postfix"
   ]
  },
  {
   "cell_type": "code",
   "execution_count": 22,
   "metadata": {},
   "outputs": [],
   "source": [
    "def ArrayCreator2Code(node):\n",
    "    code_snippet='new '\n",
    "    code_snippet+= Type2Code(node.type)\n",
    "    for dim in node.dimensions:\n",
    "        code_snippet+= '['+func_dict[type(dim).__name__](dim)+']'\n",
    "    if node.initializer:\n",
    "        code_snippet+=func_dict[type(node.initializer).__name__](node.initializer)\n",
    "    return code_snippet"
   ]
  },
  {
   "cell_type": "code",
   "execution_count": 23,
   "metadata": {},
   "outputs": [],
   "source": [
    "def ArrayInitializer2Code(node):\n",
    "    code_snippet='{'\n",
    "    for init in node.initializers:\n",
    "        code_snippet+=func_dict[type(init).__name__](init)+','\n",
    "    return code_snippet.rstrip(',')+'}'"
   ]
  },
  {
   "cell_type": "code",
   "execution_count": 24,
   "metadata": {},
   "outputs": [],
   "source": [
    "def Cast2Code(node):\n",
    "    code_snippet='('+Type2Code(node.type)+')'\n",
    "    code_snippet+=func_dict[type(node.expression).__name__](node.expression)\n",
    "    return code_snippet"
   ]
  },
  {
   "cell_type": "code",
   "execution_count": 25,
   "metadata": {},
   "outputs": [],
   "source": [
    "def StatementExpression2Code(node):\n",
    "    code_snippet=''\n",
    "    # print(node)\n",
    "    code_snippet+=func_dict[type(node.expression).__name__](node.expression)\n",
    "\n",
    "    return code_snippet+';\\n'"
   ]
  },
  {
   "cell_type": "code",
   "execution_count": 26,
   "metadata": {},
   "outputs": [],
   "source": [
    "def Assignment2Code(node):\n",
    "    code_snippet=func_dict[type(node.expressionl).__name__](node.expressionl)\n",
    "\n",
    "    code_snippet+=' ' +node.type+' '\n",
    "    code_snippet+= func_dict[type(node.value).__name__](node.value)\n",
    "    return code_snippet"
   ]
  },
  {
   "cell_type": "code",
   "execution_count": 27,
   "metadata": {},
   "outputs": [],
   "source": [
    "def MethodInvocation2Code(node):\n",
    "    code_snippet=(node.qualifier+'.' if node.qualifier else '')\n",
    "    code_snippet+=node.member+'('\n",
    "    args=''\n",
    "    \n",
    "    for arg in node.arguments:\n",
    "        args+=func_dict[type(arg).__name__](arg)+','\n",
    "    code_snippet+=args.rstrip(',')+')'\n",
    "    if node.selectors:\n",
    "        for s in node.selectors:\n",
    "            if not type(s).__name__ in ['ArraySelector']:\n",
    "                code_snippet+= '.'\n",
    "            code_snippet+=func_dict[type(s).__name__](s)\n",
    "    prefix_operators=node.prefix_operators if node.prefix_operators else []\n",
    "    postfix_operators=node.postfix_operators if node.postfix_operators else []\n",
    "    \n",
    "    return ''.join(prefix_operators)+code_snippet+''.join(postfix_operators)"
   ]
  },
  {
   "cell_type": "code",
   "execution_count": 28,
   "metadata": {},
   "outputs": [],
   "source": [
    "def ArraySelector2Code(node):\n",
    "    code_snippet='['\n",
    "    code_snippet+=func_dict[type(node.index).__name__](node.index)\n",
    "    code_snippet+=']'\n",
    "    return code_snippet"
   ]
  },
  {
   "cell_type": "code",
   "execution_count": 29,
   "metadata": {},
   "outputs": [],
   "source": [
    "def ReturnStatement2Code(node):\n",
    "    return 'return '+func_dict[type(node.expression).__name__](node.expression)+';'"
   ]
  },
  {
   "cell_type": "code",
   "execution_count": 30,
   "metadata": {},
   "outputs": [],
   "source": [
    "def TryStatement2Code(node):\n",
    "    code_snippet='try'\n",
    "    if node.resources:\n",
    "        code_snippet+='('\n",
    "        for resource in node.resources:\n",
    "            code_snippet+=func_dict[type(resource).__name__](resource)\n",
    "        code_snippet+=')'\n",
    "        \n",
    "    code_snippet+='{'\n",
    "    for b in node.block:\n",
    "        code_snippet+=func_dict[type(b).__name__](b)\n",
    "    code_snippet+='\\n}'\n",
    "    if node.catches:\n",
    "        for catch in node.catches:\n",
    "            code_snippet+= func_dict[type(catch).__name__](catch)\n",
    "    return code_snippet"
   ]
  },
  {
   "cell_type": "code",
   "execution_count": 31,
   "metadata": {},
   "outputs": [],
   "source": [
    "def CatchClause2Code(node):\n",
    "\n",
    "    code_snippet= 'catch ('+func_dict[type(node.parameter).__name__](node.parameter) +')'\n",
    "    code_snippet+='{\\n'\n",
    "    for catch_block in node.block:\n",
    "        code_snippet+=func_dict[type(catch_block).__name__](catch_block)\n",
    "    code_snippet+='}\\n'\n",
    "\n",
    "    return code_snippet"
   ]
  },
  {
   "cell_type": "code",
   "execution_count": 32,
   "metadata": {},
   "outputs": [],
   "source": [
    "def CatchClauseParameter2Code(node):\n",
    "    code_snippet=''\n",
    "    for p in node.types:\n",
    "        code_snippet+=p+' '\n",
    "    code_snippet+=node.name\n",
    "    return code_snippet"
   ]
  },
  {
   "cell_type": "code",
   "execution_count": 33,
   "metadata": {},
   "outputs": [],
   "source": [
    "def ThrowStatement2Code(node):\n",
    "    code_snippet='throw ('\n",
    "    code_snippet+=func_dict[type(node.expression).__name__](node.expression)\n",
    "    code_snippet+=')'\n",
    "    return code_snippet +';'"
   ]
  },
  {
   "cell_type": "code",
   "execution_count": 34,
   "metadata": {},
   "outputs": [],
   "source": [
    "def TryResource2Code(node):\n",
    "    code_snippet=Type2Code(node.type)+' '\n",
    "    code_snippet+= node.name\n",
    "\n",
    "    code_snippet+='='+func_dict[type(node.value).__name__](node.value)\n",
    "    return code_snippet\n",
    "    "
   ]
  },
  {
   "cell_type": "code",
   "execution_count": 35,
   "metadata": {},
   "outputs": [],
   "source": [
    "def This2Code(node):\n",
    "    code_snippet='this'\n",
    "    for s in node.selectors:\n",
    "        code_snippet+= '.'+func_dict[type(s).__name__](s)\n",
    "    return code_snippet"
   ]
  },
  {
   "cell_type": "code",
   "execution_count": 231,
   "metadata": {},
   "outputs": [],
   "source": [
    "def TernaryExpression2Code(node):\n",
    "    code_snippet='('\n",
    "    if node.condition:\n",
    "        code_snippet+=func_dict[type(node.condition).__name__](node.condition)\n",
    "    code_snippet+='?'\n",
    "    if node.if_true:\n",
    "        code_snippet+=func_dict[type(node.if_true).__name__](node.if_true)\n",
    "    code_snippet+=':'\n",
    "    if node.if_false:\n",
    "        code_snippet+=func_dict[type(node.if_false).__name__](node.if_false)\n",
    "    code_snippet+=')'\n",
    "    return code_snippet\n",
    "    "
   ]
  },
  {
   "cell_type": "code",
   "execution_count": 37,
   "metadata": {},
   "outputs": [],
   "source": [
    "def BreakStatement2Code(node):\n",
    "    code_snippet='break'\n",
    "    return code_snippet+';'"
   ]
  },
  {
   "cell_type": "code",
   "execution_count": 38,
   "metadata": {},
   "outputs": [],
   "source": [
    "def ExplicitConstructorInvocation2Code(node):\n",
    "    \n",
    "    code_snippet='this('\n",
    "    for argument in node.arguments:\n",
    "        code_snippet+=func_dict[type(argument).__name__](argument)+','\n",
    "    code_snippet=code_snippet.rstrip(',')\n",
    "    code_snippet+=')'\n",
    "    return code_snippet"
   ]
  },
  {
   "cell_type": "code",
   "execution_count": 39,
   "metadata": {},
   "outputs": [],
   "source": [
    "def DoStatement2Code(node):\n",
    "    code_snippet='do'+func_dict[type(node.body).__name__](node.body)\n",
    "    code_snippet+='while('+func_dict[type(node.condition).__name__](node.condition)+')'\n",
    "    return code_snippet+';'"
   ]
  },
  {
   "cell_type": "code",
   "execution_count": 40,
   "metadata": {},
   "outputs": [],
   "source": [
    "def ContinueStatement2Code(node):\n",
    "    code_snippet='continue'\n",
    "    return code_snippet+';'"
   ]
  },
  {
   "cell_type": "code",
   "execution_count": 41,
   "metadata": {},
   "outputs": [],
   "source": [
    "def Statement2Code(node):\n",
    "    return ';'"
   ]
  },
  {
   "cell_type": "code",
   "execution_count": 42,
   "metadata": {},
   "outputs": [],
   "source": [
    "def SuperConstructorInvocation2Code(node):\n",
    "    code_snippet='super'\n",
    "    if node.arguments:\n",
    "        code_snippet+='('\n",
    "        for arg in node.arguments:\n",
    "            code_snippet+=func_dict[type(arg).__name__](arg)\n",
    "        code_snippet+=')'\n",
    "        \n",
    "    return code_snippet"
   ]
  },
  {
   "cell_type": "code",
   "execution_count": 99,
   "metadata": {},
   "outputs": [],
   "source": [
    "def SwitchStatement2Code(node):\n",
    "    code_snippet='switch('+func_dict[type(node.expression).__name__](node.expression)+'){\\n'\n",
    "\n",
    "    for case in node.cases:\n",
    "        code_snippet+='case '\n",
    "        for cons in case.case:\n",
    "            code_snippet+=func_dict[type(cons).__name__](cons)+','\n",
    "        code_snippet=code_snippet.rstrip(',')+':'\n",
    "        for statement in case.statements:\n",
    "            code_snippet+=func_dict[type(statement).__name__](statement)\n",
    "        code_snippet+='\\n'\n",
    "\n",
    "    return code_snippet+'}\\n'"
   ]
  }
 ],
 "metadata": {
  "interpreter": {
   "hash": "1d0c3caab67cdc3cb671aad33f4d3ea243842a14d4ea407190d5b54cd82f317a"
  },
  "kernelspec": {
   "display_name": "Python 3.8.3 64-bit ('base': conda)",
   "language": "python",
   "name": "python3"
  },
  "language_info": {
   "codemirror_mode": {
    "name": "ipython",
    "version": 3
   },
   "file_extension": ".py",
   "mimetype": "text/x-python",
   "name": "python",
   "nbconvert_exporter": "python",
   "pygments_lexer": "ipython3",
   "version": "3.7.11"
  },
  "orig_nbformat": 4
 },
 "nbformat": 4,
 "nbformat_minor": 2
}
