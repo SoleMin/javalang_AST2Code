{
 "cells": [
  {
   "cell_type": "code",
   "execution_count": 1,
   "metadata": {},
   "outputs": [],
   "source": [
    "import javalang\n",
    "import pandas as pd\n",
    "# from func import *\n",
    "from tqdm import tqdm"
   ]
  },
  {
   "cell_type": "code",
   "execution_count": 2,
   "metadata": {},
   "outputs": [],
   "source": [
    "data=pd.read_csv('complexity_data/finalFeatureData.csv').dropna()\n",
    "file_data=list(data['file_name'])"
   ]
  },
  {
   "cell_type": "code",
   "execution_count": 937,
   "metadata": {},
   "outputs": [
    {
     "name": "stdout",
     "output_type": "stream",
     "text": [
      "length miss match!\n",
      "406.java\n",
      "length miss match!\n",
      "160.java\n",
      "866.java\n",
      "length miss match!\n",
      "901.java\n",
      "914.java\n",
      "958.java\n",
      "964.java\n",
      "966.java\n"
     ]
    }
   ],
   "source": [
    "\n",
    "for f_n in file_data:\n",
    "    # if not f_n in errro_case:\n",
    "\n",
    "        f = open('complexity_data/origin/' + f_n)\n",
    "        source = f.read()\n",
    "        f.close()\n",
    "        tree = javalang.parse.parse(source)\n",
    "        try:\n",
    "            if not (equal_test(tree)):\n",
    "                print(f_n)\n",
    "                \n",
    "        except:\n",
    "            print(f_n)\n",
    "            "
   ]
  },
  {
   "cell_type": "code",
   "execution_count": 855,
   "metadata": {},
   "outputs": [],
   "source": [
    "sample=[]\n",
    "par_arr=[]\n",
    "for _,node in tree:\n",
    "    \n",
    "    if type(node)== javalang.tree.InterfaceDeclaration:\n",
    "        print(node)\n",
    "        sample.append(node)\n",
    "        par_arr.append(par)\n",
    "    par=node\n",
    "        "
   ]
  },
  {
   "cell_type": "code",
   "execution_count": 853,
   "metadata": {},
   "outputs": [
    {
     "ename": "IndexError",
     "evalue": "list index out of range",
     "output_type": "error",
     "traceback": [
      "\u001b[0;31m---------------------------------------------------------------------------\u001b[0m",
      "\u001b[0;31mIndexError\u001b[0m                                Traceback (most recent call last)",
      "\u001b[0;32m/tmp/ipykernel_5568/273740766.py\u001b[0m in \u001b[0;36m<module>\u001b[0;34m\u001b[0m\n\u001b[0;32m----> 1\u001b[0;31m \u001b[0msample\u001b[0m\u001b[0;34m[\u001b[0m\u001b[0;36m1\u001b[0m\u001b[0;34m]\u001b[0m\u001b[0;34m.\u001b[0m\u001b[0mbody\u001b[0m\u001b[0;34m\u001b[0m\u001b[0;34m\u001b[0m\u001b[0m\n\u001b[0m",
      "\u001b[0;31mIndexError\u001b[0m: list index out of range"
     ]
    }
   ],
   "source": [
    "sample[1].body"
   ]
  },
  {
   "cell_type": "code",
   "execution_count": null,
   "metadata": {},
   "outputs": [],
   "source": []
  },
  {
   "cell_type": "code",
   "execution_count": null,
   "metadata": {},
   "outputs": [],
   "source": [
    "['parameters', 'body']"
   ]
  },
  {
   "cell_type": "code",
   "execution_count": null,
   "metadata": {},
   "outputs": [],
   "source": [
    "['prefix_operators',\n",
    " 'postfix_operators',\n",
    " 'qualifier',\n",
    " 'selectors',\n",
    " 'type_arguments',\n",
    " 'arguments']"
   ]
  },
  {
   "cell_type": "code",
   "execution_count": 55,
   "metadata": {},
   "outputs": [],
   "source": [
    "f = open('complexity_data/origin/866.java')\n",
    "source = f.read()\n",
    "f.close()\n",
    "tree=javalang.parse.parse(source)\n",
    "root=tree.__iter__().__next__()[1]"
   ]
  },
  {
   "cell_type": "code",
   "execution_count": 54,
   "metadata": {},
   "outputs": [],
   "source": [
    "func_dict={\"ClassCreator\":ClassCreator2Code,\n",
    "\"Literal\":Literal2Code,\n",
    "    'BinaryOperation':BinaryOperation2Code,\n",
    "    'MemberReference':MemberReference2Code,\n",
    "    'BlockStatement':BlockStatement2Code,\n",
    "    'LocalVariableDeclaration':LocalVariableDeclaration2Code,\n",
    "    'VariableDeclaration':VariableDeclaration2Code,\n",
    "    'VariableDeclarator':VariableDeclarator2Code,\n",
    "    'ArrayCreator': ArrayCreator2Code,\n",
    "    'StatementExpression':StatementExpression2Code,\n",
    "    'ArraySelector':ArraySelector2Code,\n",
    "    'MethodInvocation':MethodInvocation2Code,\n",
    "    'Assignment':Assignment2Code,\n",
    "    'IfStatement':IfStatement2Code,\n",
    "    'ForStatement':ForStatement2Code,\n",
    "    'MethodDeclaration':MethodDeclaration2Code,\n",
    "    'Cast':Cast2Code,\n",
    "    'ReturnStatement':ReturnStatement2Code,\n",
    "    'ClassDeclaration':ClassDeclaration2Code,\n",
    "    'FieldDeclaration':FieldDeclaration2Code,\n",
    "    'NoneType':Nonetype,\n",
    "    'ConstructorDeclaration':ConstructorDeclaration2Code,\n",
    "    'WhileStatement':WhileStatement2Code,\n",
    "    'TryStatement':TryStatement2Code,\n",
    "    'CatchClauseParameter':CatchClauseParameter2Code,\n",
    "    'ThrowStatement':ThrowStatement2Code,\n",
    "    'CatchClause':CatchClause2Code,\n",
    "    'TryResource':TryResource2Code,\n",
    "    'This':This2Code,\n",
    "    'TernaryExpression':TernaryExpression2Code,\n",
    "    'BreakStatement':BreakStatement2Code,\n",
    "    'ExplicitConstructorInvocation':ExplicitConstructorInvocation2Code,\n",
    "    'DoStatement':DoStatement2Code,\n",
    "    'InterfaceDeclaration':InterfaceDeclaration2Code,\n",
    "    'ContinueStatement':ContinueStatement2Code,\n",
    "    'Statement':Statement2Code,\n",
    "    'ArrayInitializer':ArrayInitializer2Code,\n",
    "    'SuperConstructorInvocation':SuperConstructorInvocation2Code,\n",
    "    'SwitchStatement':SwitchStatement2Code,\n",
    "    'EnhancedForControl':EnhancedForControl2Code,\n",
    "    'ForControl':ForControl2Code,\n",
    "    'ReferenceType':Type2Code,\n",
    "    'AssertStatement':AssertStatement2Code,\n",
    "    'SuperMethodInvocation':SuperMethodInvocation2Code,\n",
    "    'BasicType':BasicType2Code,\n",
    "    'LambdaExpression':LambdaExpression2Code,\n",
    "    'InferredFormalParameter':InferredFormalParameter2Code\n",
    "}"
   ]
  },
  {
   "cell_type": "code",
   "execution_count": 346,
   "metadata": {},
   "outputs": [],
   "source": [
    "tree2=javalang.parse.parse(AST2Code(root))"
   ]
  },
  {
   "cell_type": "code",
   "execution_count": 927,
   "metadata": {},
   "outputs": [
    {
     "name": "stdout",
     "output_type": "stream",
     "text": [
      "FormalParameter(annotations=[], modifiers=set(), name=dat, type=BasicType(dimensions=[None], name=long), varargs=False)\n",
      "\n",
      "FormalParameter(annotations=[], modifiers=set(), name=dat, type=BasicType(dimensions=[None, None], name=long), varargs=False)\n",
      "False\n"
     ]
    }
   ],
   "source": [
    "tree2=javalang.parse.parse(AST2Code(root))\n",
    "idx=357\n",
    "\n",
    "list_tree=[]\n",
    "list_tree2=[]\n",
    "for _,node in tree:\n",
    "    list_tree.append(node)\n",
    "for _,node in tree2:\n",
    "    list_tree2.append(node)\n",
    "\n",
    "print(list_tree[idx],end='\\n\\n')\n",
    "print(list_tree2[idx])\n",
    "print(str(list_tree[idx]) == str(list_tree2[idx]))"
   ]
  },
  {
   "cell_type": "code",
   "execution_count": 926,
   "metadata": {},
   "outputs": [
    {
     "name": "stdout",
     "output_type": "stream",
     "text": [
      "public BIT( long[][] dat){\n",
      "m_array = new long[(dat.length + 1)];\n",
      "Arrays.fill(m_array,0);\n",
      "for ( int i  = 0;(i < dat.length);i++)\n",
      "{m_array[(i + 1)] = dat[i];\n",
      "}for ( int i  = 1;(i < m_array.length);i++)\n",
      "{ int j  = (i + (i & -i)); \n",
      "if ( (j < m_array.length))\n",
      "{m_array[j] = (m_array[j] + m_array[i]);\n",
      "}\n",
      "}}\n",
      "\n"
     ]
    }
   ],
   "source": [
    "352 miss match\n",
    "356 miss match\n",
    "357 miss match\n",
    "358 miss match"
   ]
  },
  {
   "cell_type": "code",
   "execution_count": 811,
   "metadata": {},
   "outputs": [
    {
     "data": {
      "text/plain": [
       "['modifiers',\n",
       " 'annotations',\n",
       " 'documentation',\n",
       " 'type_parameters',\n",
       " 'name',\n",
       " 'parameters',\n",
       " 'throws',\n",
       " 'body']"
      ]
     },
     "execution_count": 811,
     "metadata": {},
     "output_type": "execute_result"
    }
   ],
   "source": [
    "list_tree[idx].attrs"
   ]
  },
  {
   "cell_type": "code",
   "execution_count": 823,
   "metadata": {},
   "outputs": [
    {
     "data": {
      "text/plain": [
       "'Pair( T1 f, T2 s){\\nfirst = f;\\nsecond = s;\\n}\\n'"
      ]
     },
     "execution_count": 823,
     "metadata": {},
     "output_type": "execute_result"
    }
   ],
   "source": [
    "ConstructorDeclaration2Code(list_tree[idx])"
   ]
  },
  {
   "cell_type": "code",
   "execution_count": 819,
   "metadata": {},
   "outputs": [
    {
     "data": {
      "text/plain": [
       "False"
      ]
     },
     "execution_count": 819,
     "metadata": {},
     "output_type": "execute_result"
    }
   ],
   "source": [
    "str(list_tree2[idx].modifiers)==str(list_tree[idx].modifiers)"
   ]
  },
  {
   "cell_type": "code",
   "execution_count": 740,
   "metadata": {},
   "outputs": [
    {
     "data": {
      "text/plain": [
       "LambdaExpression(body=BinaryOperation(operandl=MemberReference(member=start, postfix_operators=[], prefix_operators=[], qualifier=a, selectors=[]), operandr=MemberReference(member=start, postfix_operators=[], prefix_operators=[], qualifier=b, selectors=[]), operator=-), parameters=[InferredFormalParameter(name=a), InferredFormalParameter(name=b)])"
      ]
     },
     "execution_count": 740,
     "metadata": {},
     "output_type": "execute_result"
    }
   ],
   "source": [
    "list_tree[idx].expression.arguments[1]"
   ]
  },
  {
   "cell_type": "code",
   "execution_count": null,
   "metadata": {},
   "outputs": [],
   "source": []
  },
  {
   "cell_type": "code",
   "execution_count": 725,
   "metadata": {},
   "outputs": [
    {
     "data": {
      "text/plain": [
       "['label', 'expression']"
      ]
     },
     "execution_count": 725,
     "metadata": {},
     "output_type": "execute_result"
    }
   ],
   "source": [
    "list_tree2[idx].attrs"
   ]
  },
  {
   "cell_type": "code",
   "execution_count": null,
   "metadata": {},
   "outputs": [],
   "source": []
  },
  {
   "cell_type": "code",
   "execution_count": 625,
   "metadata": {},
   "outputs": [
    {
     "data": {
      "text/plain": [
       "Assignment(expressionl=MemberReference(member=head, postfix_operators=[], prefix_operators=[], qualifier=, selectors=[MemberReference(member=left, postfix_operators=None, prefix_operators=None, qualifier=None, selectors=None)]), type==, value=MemberReference(member=root, postfix_operators=[], prefix_operators=[], qualifier=, selectors=[]))"
      ]
     },
     "execution_count": 625,
     "metadata": {},
     "output_type": "execute_result"
    }
   ],
   "source": [
    "list_tree[idx].then_statement.expression"
   ]
  },
  {
   "cell_type": "code",
   "execution_count": 626,
   "metadata": {},
   "outputs": [
    {
     "data": {
      "text/plain": [
       "Assignment(expressionl=MemberReference(member=left, postfix_operators=[], prefix_operators=[], qualifier=head, selectors=[]), type==, value=MemberReference(member=root, postfix_operators=[], prefix_operators=[], qualifier=, selectors=[]))"
      ]
     },
     "execution_count": 626,
     "metadata": {},
     "output_type": "execute_result"
    }
   ],
   "source": [
    "list_tree2[idx].then_statement.expression"
   ]
  },
  {
   "cell_type": "code",
   "execution_count": 580,
   "metadata": {},
   "outputs": [
    {
     "data": {
      "text/plain": [
       "['name', 'element']"
      ]
     },
     "execution_count": 580,
     "metadata": {},
     "output_type": "execute_result"
    }
   ],
   "source": [
    "list_tree[idx].annotations[0].attrs"
   ]
  },
  {
   "cell_type": "code",
   "execution_count": 518,
   "metadata": {},
   "outputs": [
    {
     "data": {
      "text/plain": [
       "'super(read)'"
      ]
     },
     "execution_count": 518,
     "metadata": {},
     "output_type": "execute_result"
    }
   ],
   "source": [
    "SuperConstructorInvocation2Code(list_tree2[idx])"
   ]
  },
  {
   "cell_type": "code",
   "execution_count": 466,
   "metadata": {},
   "outputs": [
    {
     "data": {
      "text/plain": [
       "False"
      ]
     },
     "execution_count": 466,
     "metadata": {},
     "output_type": "execute_result"
    }
   ],
   "source": [
    "str(list_tree[idx].then_statement)==str(list_tree2[idx].then_statement)\n"
   ]
  },
  {
   "cell_type": "code",
   "execution_count": 481,
   "metadata": {},
   "outputs": [
    {
     "data": {
      "text/plain": [
       "Assignment(expressionl=MemberReference(member=head, postfix_operators=[], prefix_operators=[], qualifier=, selectors=[MemberReference(member=left, postfix_operators=None, prefix_operators=None, qualifier=None, selectors=None)]), type==, value=MemberReference(member=root, postfix_operators=[], prefix_operators=[], qualifier=, selectors=[]))"
      ]
     },
     "execution_count": 481,
     "metadata": {},
     "output_type": "execute_result"
    }
   ],
   "source": [
    "list_tree[idx].then_statement.expression"
   ]
  },
  {
   "cell_type": "code",
   "execution_count": 483,
   "metadata": {},
   "outputs": [
    {
     "data": {
      "text/plain": [
       "Assignment(expressionl=MemberReference(member=left, postfix_operators=[], prefix_operators=[], qualifier=head, selectors=[]), type==, value=MemberReference(member=root, postfix_operators=[], prefix_operators=[], qualifier=, selectors=[]))"
      ]
     },
     "execution_count": 483,
     "metadata": {},
     "output_type": "execute_result"
    }
   ],
   "source": [
    "list_tree2[idx].then_statement.expression"
   ]
  },
  {
   "cell_type": "code",
   "execution_count": 484,
   "metadata": {},
   "outputs": [
    {
     "ename": "AttributeError",
     "evalue": "'IfStatement' object has no attribute 'expression'",
     "output_type": "error",
     "traceback": [
      "\u001b[0;31m---------------------------------------------------------------------------\u001b[0m",
      "\u001b[0;31mAttributeError\u001b[0m                            Traceback (most recent call last)",
      "\u001b[0;32m/tmp/ipykernel_5568/2062075989.py\u001b[0m in \u001b[0;36m<module>\u001b[0;34m\u001b[0m\n\u001b[0;32m----> 1\u001b[0;31m \u001b[0mstr\u001b[0m\u001b[0;34m(\u001b[0m\u001b[0mlist_tree\u001b[0m\u001b[0;34m[\u001b[0m\u001b[0midx\u001b[0m\u001b[0;34m]\u001b[0m\u001b[0;34m.\u001b[0m\u001b[0mexpression\u001b[0m\u001b[0;34m.\u001b[0m\u001b[0mif_false\u001b[0m\u001b[0;34m)\u001b[0m\u001b[0;34m==\u001b[0m\u001b[0mstr\u001b[0m\u001b[0;34m(\u001b[0m\u001b[0mlist_tree2\u001b[0m\u001b[0;34m[\u001b[0m\u001b[0midx\u001b[0m\u001b[0;34m]\u001b[0m\u001b[0;34m.\u001b[0m\u001b[0mexpression\u001b[0m\u001b[0;34m.\u001b[0m\u001b[0mexpressionl\u001b[0m\u001b[0;34m.\u001b[0m\u001b[0mif_false\u001b[0m\u001b[0;34m)\u001b[0m\u001b[0;34m\u001b[0m\u001b[0;34m\u001b[0m\u001b[0m\n\u001b[0m",
      "\u001b[0;31mAttributeError\u001b[0m: 'IfStatement' object has no attribute 'expression'"
     ]
    }
   ],
   "source": [
    "str(list_tree[idx].expression.if_false)==str(list_tree2[idx].expression.expressionl.if_false)"
   ]
  },
  {
   "cell_type": "code",
   "execution_count": null,
   "metadata": {},
   "outputs": [],
   "source": [
    "['documentation',\n",
    " 'modifiers',\n",
    " 'annotations',\n",
    " 'type_parameters',\n",
    " 'return_type',\n",
    " 'name',\n",
    " 'parameters',\n",
    " 'throws',\n",
    " 'body']"
   ]
  },
  {
   "cell_type": "code",
   "execution_count": 331,
   "metadata": {},
   "outputs": [
    {
     "data": {
      "text/plain": [
       "['label', 'condition', 'body']"
      ]
     },
     "execution_count": 331,
     "metadata": {},
     "output_type": "execute_result"
    }
   ],
   "source": [
    "list_tree[idx].attrs"
   ]
  },
  {
   "cell_type": "code",
   "execution_count": 910,
   "metadata": {},
   "outputs": [
    {
     "data": {
      "text/plain": [
       "[FormalParameter(annotations=[], modifiers={'final'}, name=relativePosition, type=BasicType(dimensions=[], name=int), varargs=False),\n",
       " FormalParameter(annotations=[], modifiers={'final'}, name=obj, type=ReferenceType(arguments=None, dimensions=[], name=E, sub_type=None), varargs=False),\n",
       " FormalParameter(annotations=[], modifiers={'final'}, name=rightFollower, type=ReferenceType(arguments=None, dimensions=[], name=TreeList, sub_type=ReferenceType(arguments=[TypeArgument(pattern_type=None, type=ReferenceType(arguments=None, dimensions=[], name=E, sub_type=None))], dimensions=None, name=AVLNode, sub_type=None)), varargs=False),\n",
       " FormalParameter(annotations=[], modifiers={'final'}, name=leftFollower, type=ReferenceType(arguments=None, dimensions=[], name=TreeList, sub_type=ReferenceType(arguments=[TypeArgument(pattern_type=None, type=ReferenceType(arguments=None, dimensions=[], name=E, sub_type=None))], dimensions=None, name=AVLNode, sub_type=None)), varargs=False)]"
      ]
     },
     "execution_count": 910,
     "metadata": {},
     "output_type": "execute_result"
    }
   ],
   "source": [
    "root.types[0].body[4].body[17].body[7].parameters"
   ]
  },
  {
   "cell_type": "code",
   "execution_count": 905,
   "metadata": {},
   "outputs": [
    {
     "name": "stdout",
     "output_type": "stream",
     "text": [
      "public TreeList(final Collection<? extends E> coll){\n",
      "super();\n",
      "if ( !coll.isEmpty())\n",
      "{root = new TreeList.AVLNode<>(coll);\n",
      "size = coll.size();\n",
      "}\n",
      "}\n",
      "\n"
     ]
    }
   ],
   "source": [
    "print(ConstructorDeclaration2Code(root.types[0].body[4].body[3]))"
   ]
  },
  {
   "cell_type": "code",
   "execution_count": null,
   "metadata": {},
   "outputs": [],
   "source": [
    "['modifiers',\n",
    " 'annotations',\n",
    " 'documentation',\n",
    " 'name',\n",
    " 'body',\n",
    " 'type_parameters',\n",
    " 'extends']"
   ]
  },
  {
   "cell_type": "code",
   "execution_count": null,
   "metadata": {},
   "outputs": [],
   "source": [
    "['label', 'condition', 'body']"
   ]
  },
  {
   "cell_type": "code",
   "execution_count": null,
   "metadata": {},
   "outputs": [],
   "source": [
    "equal_test(tree)"
   ]
  },
  {
   "cell_type": "code",
   "execution_count": 56,
   "metadata": {},
   "outputs": [
    {
     "name": "stdout",
     "output_type": "stream",
     "text": [
      "import java.io.OutputStream;\n",
      "import java.io.IOException;\n",
      "import java.io.InputStream;\n",
      "import java.io.PrintWriter;\n",
      "import java.util.Iterator;\n",
      "import java.util.ListIterator;\n",
      "import java.util.Collection;\n",
      "import java.util.AbstractList;\n",
      "import java.util.InputMismatchException;\n",
      "import java.io.IOException;\n",
      "import java.util.Deque;\n",
      "import java.util.ArrayDeque;\n",
      "import java.util.NoSuchElementException;\n",
      "import java.util.ConcurrentModificationException;\n",
      "import java.io.InputStream;\n",
      "/**\n",
      " * Built using CHelper plug-in\n",
      " * Actual solution is at the top\n",
      " *\n",
      " * @author cunbidun\n",
      " */\n",
      "public  class Main{\n",
      "static public void main( String[] args){\n",
      " InputStream inputStream  = System.in; \n",
      " OutputStream outputStream  = System.out; \n",
      " InputReader in  = new InputReader(inputStream); \n",
      " PrintWriter out  = new PrintWriter(outputStream); \n",
      " DPairOfLines solver  = new DPairOfLines(); \n",
      "solver.solve(1,in,out);\n",
      "out.close();\n",
      "}\n",
      "static  class DPairOfLines{\n",
      "static private final int INF  = ((int)2e9 + 7);\n",
      "private InputReader in ;\n",
      "private PrintWriter out ;\n",
      "public void solve( int testNumber, InputReader in, PrintWriter out){\n",
      "this.in = in;\n",
      "this.out = out;\n",
      " int n  = in.nextInt(); \n",
      "if ( (n <= 4))\n",
      "{out.println(\"YES\");\n",
      "return ;}\n",
      " TreeList<PairII> list  = new TreeList<>(); \n",
      " PairII[] a  = new PairII[(n + 1)]; \n",
      "for ( int i  = 1;(i <= n);i++)\n",
      "{a[i] = new PairII(in.nextInt(),in.nextInt());\n",
      "list.add(a[i]);\n",
      "} PairII pos1  = new PairII(INF,INF); \n",
      " PairII pos2  = new PairII(INF,INF); \n",
      "for ( int i  = 1;(i <= 5);i++)\n",
      "{for ( int j  = (i + 1);(j <= 5);j++)\n",
      "{for ( int k  = (j + 1);(k <= 5);k++)\n",
      "{ int x1  = a[i].first; \n",
      " int y1  = a[i].second; \n",
      " int x2  = a[j].first; \n",
      " int y2  = a[j].second; \n",
      " int x  = a[k].first; \n",
      " int y  = a[k].second; \n",
      " long s  = ((((long)(y2 - y1) * x) + ((long)(x1 - x2) * y)) + (((long)x2 * y1) - ((long)x1 * y2))); \n",
      "if ( (s == 0))\n",
      "{pos1 = a[i];\n",
      "pos2 = a[j];\n",
      "}\n",
      "}}}if ( pos1.equals(new PairII(INF,INF)))\n",
      "{out.println(\"NO\");\n",
      "return ;}\n",
      " int x1  = pos1.first; \n",
      " int y1  = pos1.second; \n",
      " int x2  = pos2.first; \n",
      " int y2  = pos2.second; \n",
      "for ( int i  = 0;(i < list.size());i++)\n",
      "{ int x  = list.get(i).first; \n",
      " int y  = list.get(i).second; \n",
      " long s  = ((((long)(y2 - y1) * x) + ((long)(x1 - x2) * y)) + (((long)x2 * y1) - ((long)x1 * y2))); \n",
      "if ( (s == 0))\n",
      "{list.remove(i);\n",
      "i--;\n",
      "}\n",
      "}if ( (list.size() <= 2))\n",
      "{out.println(\"YES\");\n",
      "return ;}\n",
      "x1 = list.get(0).first;\n",
      "y1 = list.get(0).second;\n",
      "x2 = list.get(1).first;\n",
      "y2 = list.get(1).second;\n",
      "for ( int i  = 0;(i < list.size());i++)\n",
      "{ int x  = list.get(i).first; \n",
      " int y  = list.get(i).second; \n",
      " long s  = ((((long)(y2 - y1) * x) + ((long)(x1 - x2) * y)) + (((long)x2 * y1) - ((long)x1 * y2))); \n",
      "if ( (s == 0))\n",
      "{list.remove(i);\n",
      "i--;\n",
      "}\n",
      "}if ( (list.size() == 0))\n",
      "{out.println(\"YES\");\n",
      "}\n",
      "else out.println(\"NO\");\n",
      "}\n",
      "}static  interface OrderedIterator<E> extends Iterator<E>{}static  class PairII implements Comparable<PairII>{\n",
      "public int first ;\n",
      "public int second ;\n",
      "public PairII( int first, int second){\n",
      "this.first = first;\n",
      "this.second = second;\n",
      "}\n",
      "public boolean equals( Object o){\n",
      "if ( (this == o))\n",
      "{return true;}\n",
      "if ( ((o == null) || (getClass() != o.getClass())))\n",
      "{return false;}\n",
      " PairII pair  = (PairII)o; \n",
      "return ((first == pair.first) && (second == pair.second));}\n",
      "public String toString(){\n",
      "return ((((\"(\" + first) + \",\") + second) + \")\");}\n",
      "public int compareTo( PairII o){\n",
      " int value  = Integer.compare(first,o.first); \n",
      "if ( (value != 0))\n",
      "{return value;}\n",
      "return Integer.compare(second,o.second);}\n",
      "}static  class TreeList<E> extends AbstractList<E>{\n",
      "private TreeList.AVLNode<E> root ;\n",
      "private int size ;\n",
      "public TreeList(){\n",
      "super();\n",
      "}\n",
      "public TreeList(final Collection<? extends E> coll){\n",
      "super();\n",
      "if ( !coll.isEmpty())\n",
      "{root = new TreeList.AVLNode<>(coll);\n",
      "size = coll.size();\n",
      "}\n",
      "}\n",
      "public E get(final int index){\n",
      "return root.get(index).getValue();}\n",
      "public int size(){\n",
      "return size;}\n",
      "public Iterator<E> iterator(){\n",
      "return listIterator(0);}\n",
      "public ListIterator<E> listIterator(){\n",
      "return listIterator(0);}\n",
      "public ListIterator<E> listIterator(final int fromIndex){\n",
      "return new TreeList.TreeListIterator<>(this,fromIndex);}\n",
      "public int indexOf(final Object object){\n",
      "if ( (root == null))\n",
      "{return -1;}\n",
      "return root.indexOf(object,root.relativePosition);}\n",
      "public boolean contains(final Object object){\n",
      "return (indexOf(object) >= 0);}\n",
      "public Object[] toArray(){\n",
      "final Object[] array  = new Object[size()]; \n",
      "if ( (root != null))\n",
      "{root.toArray(array,root.relativePosition);\n",
      "}\n",
      "return array;}\n",
      "public void add(final int index,final E obj){\n",
      "modCount++;\n",
      "if ( (root == null))\n",
      "{root = new TreeList.AVLNode<>(index,obj,null,null);\n",
      "}\n",
      "else {root = root.insert(index,obj);\n",
      "}size++;\n",
      "}\n",
      "public boolean addAll(final Collection<? extends E> c){\n",
      "if ( c.isEmpty())\n",
      "{return false;}\n",
      "modCount += c.size();\n",
      "final TreeList.AVLNode<E> cTree  = new TreeList.AVLNode<>(c); \n",
      "root = ((root == null)?cTree:root.addAll(cTree,size));\n",
      "size += c.size();\n",
      "return true;}\n",
      "public E set(final int index,final E obj){\n",
      "final TreeList.AVLNode<E> node  = root.get(index); \n",
      "final E result  = node.value; \n",
      "node.setValue(obj);\n",
      "return result;}\n",
      "public E remove(final int index){\n",
      "modCount++;\n",
      "final E result  = get(index); \n",
      "root = root.remove(index);\n",
      "size--;\n",
      "return result;}\n",
      "public void clear(){\n",
      "modCount++;\n",
      "root = null;\n",
      "size = 0;\n",
      "}\n",
      "static  class AVLNode<E>{\n",
      "private TreeList.AVLNode<E> left ;\n",
      "private boolean leftIsPrevious ;\n",
      "private TreeList.AVLNode<E> right ;\n",
      "private boolean rightIsNext ;\n",
      "private int height ;\n",
      "private int relativePosition ;\n",
      "private E value ;\n",
      "private AVLNode(final int relativePosition,final E obj,final TreeList.AVLNode<E> rightFollower,final TreeList.AVLNode<E> leftFollower){\n",
      "this.relativePosition = relativePosition;\n",
      "value = obj;\n",
      "rightIsNext = true;\n",
      "leftIsPrevious = true;\n",
      "right = rightFollower;\n",
      "left = leftFollower;\n",
      "}\n",
      "private AVLNode(final Collection<? extends E> coll){\n",
      "this(coll.iterator(),0,(coll.size() - 1),0,null,null);\n",
      "}\n",
      "private AVLNode(final Iterator<? extends E> iterator,final int start,final int end,final int absolutePositionOfParent,final TreeList.AVLNode<E> prev,final TreeList.AVLNode<E> next){\n",
      "final int mid  = (start + ((end - start) / 2)); \n",
      "if ( (start < mid))\n",
      "{left = new TreeList.AVLNode<>(iterator,start,(mid - 1),mid,prev,this);\n",
      "}\n",
      "else {leftIsPrevious = true;\n",
      "left = prev;\n",
      "}value = iterator.next();\n",
      "relativePosition = (mid - absolutePositionOfParent);\n",
      "if ( (mid < end))\n",
      "{right = new TreeList.AVLNode<>(iterator,(mid + 1),end,mid,this,next);\n",
      "}\n",
      "else {rightIsNext = true;\n",
      "right = next;\n",
      "}recalcHeight();\n",
      "}\n",
      " E getValue(){\n",
      "return value;}\n",
      " void setValue(final E obj){\n",
      "this.value = obj;\n",
      "}\n",
      " TreeList.AVLNode<E> get(final int index){\n",
      "final int indexRelativeToMe  = (index - relativePosition); \n",
      "if ( (indexRelativeToMe == 0))\n",
      "{return this;}\n",
      "final TreeList.AVLNode<E> nextNode  = ((indexRelativeToMe < 0)?getLeftSubTree():getRightSubTree()); \n",
      "if ( (nextNode == null))\n",
      "{return null;}\n",
      "return nextNode.get(indexRelativeToMe);}\n",
      " int indexOf(final Object object,final int index){\n",
      "if ( (getLeftSubTree() != null))\n",
      "{final int result  = left.indexOf(object,(index + left.relativePosition)); \n",
      "if ( (result != -1))\n",
      "{return result;}\n",
      "}\n",
      "if ( ((value == null)?(value == object):value.equals(object)))\n",
      "{return index;}\n",
      "if ( (getRightSubTree() != null))\n",
      "{return right.indexOf(object,(index + right.relativePosition));}\n",
      "return -1;}\n",
      " void toArray(final Object[] array,final int index){\n",
      "array[index] = value;\n",
      "if ( (getLeftSubTree() != null))\n",
      "{left.toArray(array,(index + left.relativePosition));\n",
      "}\n",
      "if ( (getRightSubTree() != null))\n",
      "{right.toArray(array,(index + right.relativePosition));\n",
      "}\n",
      "}\n",
      " TreeList.AVLNode<E> next(){\n",
      "if ( (rightIsNext || (right == null)))\n",
      "{return right;}\n",
      "return right.min();}\n",
      " TreeList.AVLNode<E> previous(){\n",
      "if ( (leftIsPrevious || (left == null)))\n",
      "{return left;}\n",
      "return left.max();}\n",
      " TreeList.AVLNode<E> insert(final int index,final E obj){\n",
      "final int indexRelativeToMe  = (index - relativePosition); \n",
      "if ( (indexRelativeToMe <= 0))\n",
      "{return insertOnLeft(indexRelativeToMe,obj);}\n",
      "return insertOnRight(indexRelativeToMe,obj);}\n",
      "private TreeList.AVLNode<E> insertOnLeft(final int indexRelativeToMe,final E obj){\n",
      "if ( (getLeftSubTree() == null))\n",
      "{setLeft(new TreeList.AVLNode<>(-1,obj,this,left),null);\n",
      "}\n",
      "else {setLeft(left.insert(indexRelativeToMe,obj),null);\n",
      "}if ( (relativePosition >= 0))\n",
      "{relativePosition++;\n",
      "}\n",
      "final TreeList.AVLNode<E> ret  = balance(); \n",
      "recalcHeight();\n",
      "return ret;}\n",
      "private TreeList.AVLNode<E> insertOnRight(final int indexRelativeToMe,final E obj){\n",
      "if ( (getRightSubTree() == null))\n",
      "{setRight(new TreeList.AVLNode<>(+1,obj,right,this),null);\n",
      "}\n",
      "else {setRight(right.insert(indexRelativeToMe,obj),null);\n",
      "}if ( (relativePosition < 0))\n",
      "{relativePosition--;\n",
      "}\n",
      "final TreeList.AVLNode<E> ret  = balance(); \n",
      "recalcHeight();\n",
      "return ret;}\n",
      "private TreeList.AVLNode<E> getLeftSubTree(){\n",
      "return (leftIsPrevious?null:left);}\n",
      "private TreeList.AVLNode<E> getRightSubTree(){\n",
      "return (rightIsNext?null:right);}\n",
      "private TreeList.AVLNode<E> max(){\n",
      "return ((getRightSubTree() == null)?this:right.max());}\n",
      "private TreeList.AVLNode<E> min(){\n",
      "return ((getLeftSubTree() == null)?this:left.min());}\n",
      " TreeList.AVLNode<E> remove(final int index){\n",
      "final int indexRelativeToMe  = (index - relativePosition); \n",
      "if ( (indexRelativeToMe == 0))\n",
      "{return removeSelf();}\n",
      "if ( (indexRelativeToMe > 0))\n",
      "{setRight(right.remove(indexRelativeToMe),right.right);\n",
      "if ( (relativePosition < 0))\n",
      "{relativePosition++;\n",
      "}\n",
      "}\n",
      "else {setLeft(left.remove(indexRelativeToMe),left.left);\n",
      "if ( (relativePosition > 0))\n",
      "{relativePosition--;\n",
      "}\n",
      "}recalcHeight();\n",
      "return balance();}\n",
      "private TreeList.AVLNode<E> removeMax(){\n",
      "if ( (getRightSubTree() == null))\n",
      "{return removeSelf();}\n",
      "setRight(right.removeMax(),right.right);\n",
      "if ( (relativePosition < 0))\n",
      "{relativePosition++;\n",
      "}\n",
      "recalcHeight();\n",
      "return balance();}\n",
      "private TreeList.AVLNode<E> removeMin(){\n",
      "if ( (getLeftSubTree() == null))\n",
      "{return removeSelf();}\n",
      "setLeft(left.removeMin(),left.left);\n",
      "if ( (relativePosition > 0))\n",
      "{relativePosition--;\n",
      "}\n",
      "recalcHeight();\n",
      "return balance();}\n",
      "private TreeList.AVLNode<E> removeSelf(){\n",
      "if ( ((getRightSubTree() == null) && (getLeftSubTree() == null)))\n",
      "{return null;}\n",
      "if ( (getRightSubTree() == null))\n",
      "{if ( (relativePosition > 0))\n",
      "{left.relativePosition += relativePosition;\n",
      "}\n",
      "left.max().setRight(null,right);\n",
      "return left;}\n",
      "if ( (getLeftSubTree() == null))\n",
      "{right.relativePosition += (relativePosition - ((relativePosition < 0)?0:1));\n",
      "right.min().setLeft(null,left);\n",
      "return right;}\n",
      "if ( (heightRightMinusLeft() > 0))\n",
      "{final TreeList.AVLNode<E> rightMin  = right.min(); \n",
      "value = rightMin.value;\n",
      "if ( leftIsPrevious)\n",
      "{left = rightMin.left;\n",
      "}\n",
      "right = right.removeMin();\n",
      "if ( (relativePosition < 0))\n",
      "{relativePosition++;\n",
      "}\n",
      "}\n",
      "else {final TreeList.AVLNode<E> leftMax  = left.max(); \n",
      "value = leftMax.value;\n",
      "if ( rightIsNext)\n",
      "{right = leftMax.right;\n",
      "}\n",
      "final TreeList.AVLNode<E> leftPrevious  = left.left; \n",
      "left = left.removeMax();\n",
      "if ( (left == null))\n",
      "{left = leftPrevious;\n",
      "leftIsPrevious = true;\n",
      "}\n",
      "if ( (relativePosition > 0))\n",
      "{relativePosition--;\n",
      "}\n",
      "}recalcHeight();\n",
      "return this;}\n",
      "private TreeList.AVLNode<E> balance(){\n",
      "switch(heightRightMinusLeft()){\n",
      "case 1,0,-1:return this;\n",
      "case -2:if ( (left.heightRightMinusLeft() > 0))\n",
      "{setLeft(left.rotateLeft(),null);\n",
      "}\n",
      "return rotateRight();\n",
      "case 2:if ( (right.heightRightMinusLeft() < 0))\n",
      "{setRight(right.rotateRight(),null);\n",
      "}\n",
      "return rotateLeft();\n",
      "default :throw (new RuntimeException(\"tree inconsistent!\"));\n",
      "}\n",
      "}\n",
      "private int getOffset(final TreeList.AVLNode<E> node){\n",
      "if ( (node == null))\n",
      "{return 0;}\n",
      "return node.relativePosition;}\n",
      "private int setOffset(final TreeList.AVLNode<E> node,final int newOffest){\n",
      "if ( (node == null))\n",
      "{return 0;}\n",
      "final int oldOffset  = getOffset(node); \n",
      "node.relativePosition = newOffest;\n",
      "return oldOffset;}\n",
      "private void recalcHeight(){\n",
      "height = (Math.max(((getLeftSubTree() == null)?-1:getLeftSubTree().height),((getRightSubTree() == null)?-1:getRightSubTree().height)) + 1);\n",
      "}\n",
      "private int getHeight(final TreeList.AVLNode<E> node){\n",
      "return ((node == null)?-1:node.height);}\n",
      "private int heightRightMinusLeft(){\n",
      "return (getHeight(getRightSubTree()) - getHeight(getLeftSubTree()));}\n",
      "private TreeList.AVLNode<E> rotateLeft(){\n",
      "final TreeList.AVLNode<E> newTop  = right; \n",
      "final TreeList.AVLNode<E> movedNode  = getRightSubTree().getLeftSubTree(); \n",
      "final int newTopPosition  = (relativePosition + getOffset(newTop)); \n",
      "final int myNewPosition  = -newTop.relativePosition; \n",
      "final int movedPosition  = (getOffset(newTop) + getOffset(movedNode)); \n",
      "setRight(movedNode,newTop);\n",
      "newTop.setLeft(this,null);\n",
      "setOffset(newTop,newTopPosition);\n",
      "setOffset(this,myNewPosition);\n",
      "setOffset(movedNode,movedPosition);\n",
      "return newTop;}\n",
      "private TreeList.AVLNode<E> rotateRight(){\n",
      "final TreeList.AVLNode<E> newTop  = left; \n",
      "final TreeList.AVLNode<E> movedNode  = getLeftSubTree().getRightSubTree(); \n",
      "final int newTopPosition  = (relativePosition + getOffset(newTop)); \n",
      "final int myNewPosition  = -newTop.relativePosition; \n",
      "final int movedPosition  = (getOffset(newTop) + getOffset(movedNode)); \n",
      "setLeft(movedNode,newTop);\n",
      "newTop.setRight(this,null);\n",
      "setOffset(newTop,newTopPosition);\n",
      "setOffset(this,myNewPosition);\n",
      "setOffset(movedNode,movedPosition);\n",
      "return newTop;}\n",
      "private void setLeft(final TreeList.AVLNode<E> node,final TreeList.AVLNode<E> previous){\n",
      "leftIsPrevious = (node == null);\n",
      "left = (leftIsPrevious?previous:node);\n",
      "recalcHeight();\n",
      "}\n",
      "private void setRight(final TreeList.AVLNode<E> node,final TreeList.AVLNode<E> next){\n",
      "rightIsNext = (node == null);\n",
      "right = (rightIsNext?next:node);\n",
      "recalcHeight();\n",
      "}\n",
      "private TreeList.AVLNode<E> addAll( TreeList.AVLNode<E> otherTree,final int currentSize){\n",
      "final TreeList.AVLNode<E> maxNode  = max(); \n",
      "final TreeList.AVLNode<E> otherTreeMin  = otherTree.min(); \n",
      "if ( (otherTree.height > height))\n",
      "{final TreeList.AVLNode<E> leftSubTree  = removeMax(); \n",
      "final Deque<TreeList.AVLNode<E>> sAncestors  = new ArrayDeque<>(); \n",
      " TreeList.AVLNode<E> s  = otherTree; \n",
      " int sAbsolutePosition  = (s.relativePosition + currentSize); \n",
      " int sParentAbsolutePosition  = 0; \n",
      "while(((s != null) && (s.height > getHeight(leftSubTree)))){sParentAbsolutePosition = sAbsolutePosition;\n",
      "sAncestors.push(s);\n",
      "s = s.left;\n",
      "if ( (s != null))\n",
      "{sAbsolutePosition += s.relativePosition;\n",
      "}\n",
      "}maxNode.setLeft(leftSubTree,null);\n",
      "maxNode.setRight(s,otherTreeMin);\n",
      "if ( (leftSubTree != null))\n",
      "{leftSubTree.max().setRight(null,maxNode);\n",
      "leftSubTree.relativePosition -= (currentSize - 1);\n",
      "}\n",
      "if ( (s != null))\n",
      "{s.min().setLeft(null,maxNode);\n",
      "s.relativePosition = ((sAbsolutePosition - currentSize) + 1);\n",
      "}\n",
      "maxNode.relativePosition = ((currentSize - 1) - sParentAbsolutePosition);\n",
      "otherTree.relativePosition += currentSize;\n",
      "s = maxNode;\n",
      "while(!sAncestors.isEmpty()){final TreeList.AVLNode<E> sAncestor  = sAncestors.pop(); \n",
      "sAncestor.setLeft(s,null);\n",
      "s = sAncestor.balance();\n",
      "}return s;}\n",
      "otherTree = otherTree.removeMin();\n",
      "final Deque<TreeList.AVLNode<E>> sAncestors  = new ArrayDeque<>(); \n",
      " TreeList.AVLNode<E> s  = this; \n",
      " int sAbsolutePosition  = s.relativePosition; \n",
      " int sParentAbsolutePosition  = 0; \n",
      "while(((s != null) && (s.height > getHeight(otherTree)))){sParentAbsolutePosition = sAbsolutePosition;\n",
      "sAncestors.push(s);\n",
      "s = s.right;\n",
      "if ( (s != null))\n",
      "{sAbsolutePosition += s.relativePosition;\n",
      "}\n",
      "}otherTreeMin.setRight(otherTree,null);\n",
      "otherTreeMin.setLeft(s,maxNode);\n",
      "if ( (otherTree != null))\n",
      "{otherTree.min().setLeft(null,otherTreeMin);\n",
      "otherTree.relativePosition++;\n",
      "}\n",
      "if ( (s != null))\n",
      "{s.max().setRight(null,otherTreeMin);\n",
      "s.relativePosition = (sAbsolutePosition - currentSize);\n",
      "}\n",
      "otherTreeMin.relativePosition = (currentSize - sParentAbsolutePosition);\n",
      "s = otherTreeMin;\n",
      "while(!sAncestors.isEmpty()){final TreeList.AVLNode<E> sAncestor  = sAncestors.pop(); \n",
      "sAncestor.setRight(s,null);\n",
      "s = sAncestor.balance();\n",
      "}return s;}\n",
      "}static  class TreeListIterator<E> implements ListIterator<E>,OrderedIterator<E>{\n",
      "private final TreeList<E> parent ;\n",
      "private TreeList.AVLNode<E> next ;\n",
      "private int nextIndex ;\n",
      "private TreeList.AVLNode<E> current ;\n",
      "private int currentIndex ;\n",
      "private int expectedModCount ;\n",
      "private TreeListIterator(final TreeList<E> parent,final int fromIndex)throws IndexOutOfBoundsException{\n",
      "super();\n",
      "this.parent = parent;\n",
      "this.expectedModCount = parent.modCount;\n",
      "this.next = ((parent.root == null)?null:parent.root.get(fromIndex));\n",
      "this.nextIndex = fromIndex;\n",
      "this.currentIndex = -1;\n",
      "}\n",
      "private void checkModCount(){\n",
      "if ( (parent.modCount != expectedModCount))\n",
      "{throw (new ConcurrentModificationException());}\n",
      "}\n",
      "public boolean hasNext(){\n",
      "return (nextIndex < parent.size());}\n",
      "public E next(){\n",
      "checkModCount();\n",
      "if ( !hasNext())\n",
      "{throw (new NoSuchElementException(((\"No element at index \" + nextIndex) + \".\")));}\n",
      "if ( (next == null))\n",
      "{next = parent.root.get(nextIndex);\n",
      "}\n",
      "final E value  = next.getValue(); \n",
      "current = next;\n",
      "currentIndex = nextIndex++;\n",
      "next = next.next();\n",
      "return value;}\n",
      "public boolean hasPrevious(){\n",
      "return (nextIndex > 0);}\n",
      "public E previous(){\n",
      "checkModCount();\n",
      "if ( !hasPrevious())\n",
      "{throw (new NoSuchElementException(\"Already at start of list.\"));}\n",
      "if ( (next == null))\n",
      "{next = parent.root.get((nextIndex - 1));\n",
      "}\n",
      "else {next = next.previous();\n",
      "}final E value  = next.getValue(); \n",
      "current = next;\n",
      "currentIndex = --nextIndex;\n",
      "return value;}\n",
      "public int nextIndex(){\n",
      "return nextIndex;}\n",
      "public int previousIndex(){\n",
      "return (nextIndex() - 1);}\n",
      "public void remove(){\n",
      "checkModCount();\n",
      "if ( (currentIndex == -1))\n",
      "{throw (new IllegalStateException());}\n",
      "parent.remove(currentIndex);\n",
      "if ( (nextIndex != currentIndex))\n",
      "{nextIndex--;\n",
      "}\n",
      "next = null;\n",
      "current = null;\n",
      "currentIndex = -1;\n",
      "expectedModCount++;\n",
      "}\n",
      "public void set(final E obj){\n",
      "checkModCount();\n",
      "if ( (current == null))\n",
      "{throw (new IllegalStateException());}\n",
      "current.setValue(obj);\n",
      "}\n",
      "public void add(final E obj){\n",
      "checkModCount();\n",
      "parent.add(nextIndex,obj);\n",
      "current = null;\n",
      "currentIndex = -1;\n",
      "nextIndex++;\n",
      "expectedModCount++;\n",
      "}\n",
      "}}static  class InputReader extends InputStream{\n",
      "private InputStream stream ;\n",
      "private byte[] buf  = new byte[1024];\n",
      "private int curChar ;\n",
      "private int numChars ;\n",
      "public InputReader( InputStream stream){\n",
      "this.stream = stream;\n",
      "}\n",
      "public int read(){\n",
      "if ( (numChars == -1))\n",
      "{throw (new InputMismatchException());}\n",
      "if ( (curChar >= numChars))\n",
      "{curChar = 0;\n",
      "try{numChars = stream.read(buf);\n",
      "\n",
      "}catch (IOException e){\n",
      "throw (new InputMismatchException());}\n",
      "if ( (numChars <= 0))\n",
      "{return -1;}\n",
      "}\n",
      "return buf[curChar++];}\n",
      "public int nextInt(){\n",
      " int c  = read(); \n",
      "while(isSpaceChar(c))c = read();\n",
      " int sgn  = 1; \n",
      "if ( (c == '-'))\n",
      "{sgn = -1;\n",
      "c = read();\n",
      "}\n",
      " int res  = 0; \n",
      "do {if ( ((c < '0') || (c > '9')))\n",
      "{throw (new InputMismatchException());}\n",
      "res *= 10;\n",
      "res += (c - '0');\n",
      "c = read();\n",
      "}while(!isSpaceChar(c));return (res * sgn);}\n",
      "static private boolean isSpaceChar( int c){\n",
      "return (((((c == ' ') || (c == '\\n')) || (c == '\\r')) || (c == '\\t')) || (c == -1));}\n",
      "}}\n"
     ]
    }
   ],
   "source": [
    "print(AST2Code(root))"
   ]
  },
  {
   "cell_type": "code",
   "execution_count": 3,
   "metadata": {},
   "outputs": [],
   "source": [
    "def equal_test(tree1):\n",
    "\n",
    "    list_tree=[]\n",
    "    list_tree2=[]\n",
    "    root=tree.__iter__().__next__()[1]\n",
    "    tree2=javalang.parse.parse(AST2Code(root))\n",
    "    for _,node in tree1:\n",
    "        list_tree.append(node)\n",
    "    for _,node in tree2:\n",
    "        list_tree2.append(node)\n",
    "    \n",
    "    if len(list_tree) != len(list_tree2):\n",
    "        print('length miss match!')\n",
    "        return False\n",
    "    match=True\n",
    "    for idx in range(len(list_tree)):\n",
    "        if str(list_tree[idx]) != str(list_tree2[idx]):\n",
    "            print(f'{idx } miss match')\n",
    "            match=False\n",
    "    if match:\n",
    "        return True\n",
    "    else:\n",
    "        return False\n",
    "            \n",
    "    "
   ]
  },
  {
   "cell_type": "code",
   "execution_count": 4,
   "metadata": {},
   "outputs": [],
   "source": [
    "def AST2Code(root):\n",
    "    code=''\n",
    "\n",
    "    if root.package:\n",
    "        code+= 'package '+root.package.name+';\\n'\n",
    "    for import_item in root.imports:\n",
    "        code+= 'import '+('static ' if import_item.static else '') +import_item.path+ ('.*' if import_item.wildcard else '') + ';\\n'\n",
    "    childs=root.types\n",
    "    for child in root.types:\n",
    "        code+=func_dict[type(child).__name__](child)\n",
    "    return code"
   ]
  },
  {
   "cell_type": "code",
   "execution_count": 5,
   "metadata": {},
   "outputs": [],
   "source": [
    "def Nonetype(node):\n",
    "    return ''"
   ]
  },
  {
   "cell_type": "code",
   "execution_count": 6,
   "metadata": {},
   "outputs": [],
   "source": [
    "def FieldDeclaration2Code(node):\n",
    "    code_snippet=''\n",
    "    \n",
    "    # for modifier in node.modifiers:\n",
    "    #     code_snippet+=modifier+' '\n",
    "\n",
    "    modifier_arr=[]\n",
    "    for modifier in node.modifiers:\n",
    "        modifier_arr.append(modifier)\n",
    "    code_snippet+=' '.join(reversed(modifier_arr)) +' '\n",
    "    \n",
    "    code_snippet+=Type2Code(node.type)+' '\n",
    "    for declarator in node.declarators:\n",
    "        code_snippet+= func_dict[type(declarator).__name__](declarator)+','\n",
    "    code_snippet=code_snippet.rstrip(',')\n",
    "\n",
    "    return code_snippet+';\\n'"
   ]
  },
  {
   "cell_type": "code",
   "execution_count": 7,
   "metadata": {},
   "outputs": [],
   "source": [
    "def WhileStatement2Code(node):\n",
    "    code_snippet=''\n",
    "    if node.label:\n",
    "        code_snippet+=node.label+':'\n",
    "\n",
    "    code_snippet+='while('+func_dict[type(node.condition).__name__](node.condition)+')'\n",
    "    code_snippet+=func_dict[type(node.body).__name__](node.body)\n",
    "    return code_snippet"
   ]
  },
  {
   "cell_type": "code",
   "execution_count": 8,
   "metadata": {},
   "outputs": [],
   "source": [
    "def ConstructorDeclaration2Code(node):\n",
    "    code_snippet=''\n",
    "    code_snippet+=' '.join(reversed(list(node.modifiers)))\n",
    "    code_snippet+=' '+ node.name\n",
    "    code_snippet=code_snippet.lstrip()\n",
    "    paramter=''\n",
    " \n",
    "    for pram in node.parameters:\n",
    "        \n",
    "        paramter+=' '.join(reversed(list(pram.modifiers))) +' '\n",
    "        paramter+=Type2Code(pram.type)\n",
    "        paramter+=('...' if pram.varargs else '')\n",
    "        # paramter+= ('[]'*len(pram.type.dimensions))\n",
    "        paramter+=' '+ pram.name +','\n",
    "\n",
    "    code_snippet+='('+paramter.rstrip(',')+')'\n",
    "    code_snippet+= ('throws ' +','.join(node.throws) if node.throws else '')\n",
    "    code_snippet+='{\\n'\n",
    "    for child in node.body:\n",
    "        code_snippet+= func_dict[type(child).__name__](child)\n",
    "    return code_snippet+'}\\n'"
   ]
  },
  {
   "cell_type": "code",
   "execution_count": 9,
   "metadata": {},
   "outputs": [],
   "source": [
    "def ClassDeclaration2Code(node):\n",
    "    code_snippet=''\n",
    "    for annot in node.annotations:\n",
    "        code_snippet+='@'+annot.name+'('+func_dict[type(annot.element).__name__](annot.element)+')\\n'\n",
    "    code_snippet+=(node.documentation+'\\n' if node.documentation else '')\n",
    "    modifier_arr=[]\n",
    "    for modifier in node.modifiers:\n",
    "        modifier_arr.append(modifier)\n",
    "    code_snippet+=' '.join(reversed(modifier_arr)) +' '\n",
    "\n",
    "    # for modifier in node.modifiers:\n",
    "    #     code_snippet+=modifier+' ' \n",
    "    code_snippet+=' class '+node.name\n",
    "    if node.type_parameters:\n",
    "        code_snippet+='<'\n",
    "        for param in node.type_parameters:\n",
    "            code_snippet+=param.name+','\n",
    "        \n",
    "        code_snippet=code_snippet.rstrip(',') +'>'\n",
    "    if node.implements:\n",
    "        code_snippet+=' implements '\n",
    "        code_snippet+=','.join(Type2Code(implement)for implement in node.implements)\n",
    "\n",
    "    if node.extends:\n",
    "        code_snippet+=' extends '+Type2Code(node.extends)\n",
    "    code_snippet+='{\\n'\n",
    "    for class_item in node.body:\n",
    "        code_snippet+=func_dict[type(class_item).__name__](class_item)\n",
    "\n",
    "    return code_snippet+\"}\""
   ]
  },
  {
   "cell_type": "code",
   "execution_count": 10,
   "metadata": {},
   "outputs": [],
   "source": [
    "def MethodDeclaration2Code(node):\n",
    "    code_snippet=(node.documentation+'\\n' if node.documentation else '')\n",
    "    if node.annotations:\n",
    "        for annotation in node.annotations:\n",
    "            code_snippet+='@'+annotation.name+'\\n'\n",
    "    code_snippet+=' '.join(reversed(list(node.modifiers))) +' '\n",
    "\n",
    "    \n",
    "    if node.type_parameters:\n",
    "        code_snippet+='<'\n",
    "        for type_param in node.type_parameters:\n",
    "            code_snippet+=type_param.name+','\n",
    "        code_snippet=code_snippet.rstrip(',')+'> '\n",
    "        \n",
    "    code_snippet+=(Type2Code(node.return_type) if node.return_type else 'void')+' '+node.name+'('\n",
    "    paramter=''\n",
    "    \n",
    "    for pram in node.parameters:\n",
    "        paramter+=' '.join(reversed(list(pram.modifiers))) +' '\n",
    "        paramter+=Type2Code(pram.type)\n",
    "        paramter+=('...' if pram.varargs else '')\n",
    "        paramter+=' '+ pram.name +','\n",
    "\n",
    "    code_snippet+= paramter.rstrip(',')+')'+('throws ' +','.join(node.throws)+' ' if node.throws else '')\n",
    "    code_snippet += '{\\n'\n",
    "    if node.body:\n",
    "        \n",
    "        for method_item in node.body:\n",
    "            code_snippet+=func_dict[type(method_item).__name__](method_item)\n",
    "    code_snippet+= '}\\n'\n",
    "    return code_snippet\n"
   ]
  },
  {
   "cell_type": "code",
   "execution_count": 11,
   "metadata": {},
   "outputs": [],
   "source": [
    "def InterfaceDeclaration2Code(node):\n",
    "    code_snippet=(node.documentation+'\\n' if node.documentation else '')\n",
    "    if node.annotations:\n",
    "        for annotation in node.annotations:\n",
    "            code_snippet+='@'+annotation.name+'\\n'\n",
    "    for modifier in node.modifiers:\n",
    "        code_snippet+=modifier+' ' \n",
    "\n",
    "    code_snippet+=' interface '+node.name\n",
    "    if node.type_parameters:\n",
    "        code_snippet+='<'\n",
    "        code_snippet+=','.join(pram.name for pram in node.type_parameters)\n",
    "        code_snippet+='>'\n",
    "        \n",
    "    if node.extends:\n",
    "        code_snippet+=' extends '+','.join(Type2Code(extend) for extend in node.extends)\n",
    "    \n",
    "    \n",
    "    code_snippet+='{'\n",
    "    for b in node.body:\n",
    "        code_snippet+=func_dict[type(b).__name__](b).rstrip('{\\n}\\n')+';\\n'\n",
    "    code_snippet+='}'\n",
    "    return code_snippet"
   ]
  },
  {
   "cell_type": "code",
   "execution_count": 12,
   "metadata": {},
   "outputs": [],
   "source": [
    "def LocalVariableDeclaration2Code(node):\n",
    "    code_snippet=' '.join(reversed(list(node.modifiers))) +' '\n",
    "    code_snippet+=Type2Code(node.type)+' '\n",
    "    for declarator in node.declarators:\n",
    "        code_snippet += func_dict[type(declarator).__name__](declarator) +','\n",
    "    code_snippet=code_snippet.rstrip(',')\n",
    "    return code_snippet+'; \\n'"
   ]
  },
  {
   "cell_type": "code",
   "execution_count": 13,
   "metadata": {},
   "outputs": [],
   "source": [
    "def VariableDeclarator2Code(node):\n",
    "    code_snippet=node.name\n",
    "    code_snippet+=('[]'*len(node.dimensions) if node.dimensions else '')+' ' \n",
    "    \n",
    "    if node.initializer:\n",
    "        code_snippet+= ' = '+func_dict[type(node.initializer).__name__](node.initializer)\n",
    "    return code_snippet#+';\\n'"
   ]
  },
  {
   "cell_type": "code",
   "execution_count": 14,
   "metadata": {},
   "outputs": [],
   "source": [
    "def VariableDeclaration2Code(node):\n",
    "\n",
    "    code_snippet=''\n",
    "    code_snippet+=Type2Code(node.type)+' '\n",
    "    operandr=''\n",
    "    operandl=''\n",
    "\n",
    "    # for declarator in node.declarators:\n",
    "    #     operandr+=declarator.name +','\n",
    "    #     operandl += func_dict[type(declarator.initializer).__name__](declarator.initializer)+','\n",
    "    for declarator in node.declarators:\n",
    "        operandl += func_dict[type(declarator).__name__](declarator)+','\n",
    "        \n",
    "    # code_snippet +=operandr.rstrip(',')+' = '+operandl.rstrip(',')\n",
    "    code_snippet +=operandr.rstrip(',')+operandl.rstrip(',')\n",
    "    return code_snippet#+';\\n'\n",
    "    "
   ]
  },
  {
   "cell_type": "code",
   "execution_count": 15,
   "metadata": {},
   "outputs": [],
   "source": [
    "def Type2Code(node):\n",
    "\n",
    "    if type(node).__name__ == 'BasicType':\n",
    "        return node.name +('[]'*len(node.dimensions) if node.dimensions else '')\n",
    "    elif type(node).__name__ == 'ReferenceType':\n",
    "        code_snippet=node.name\n",
    "        # if node.name in ['HashMap','HashSet']:\n",
    "        if node.arguments != None:\n",
    "            code_snippet+='<'\n",
    "            for arg in node.arguments:\n",
    "                if arg.pattern_type:\n",
    "                    if arg.pattern_type=='extends':\n",
    "                        code_snippet+='? ' +arg.pattern_type+' '\n",
    "                    else:\n",
    "                        code_snippet+=arg.pattern_type+','\n",
    "                if arg.type:\n",
    "                    code_snippet+=Type2Code(arg.type)+','\n",
    "            code_snippet=code_snippet.rstrip(',')+'>'\n",
    "        \n",
    "        if node.sub_type:\n",
    "            code_snippet+='.'+Type2Code(node.sub_type)\n",
    "        code_snippet+=('[]'*len(node.dimensions) if node.dimensions else '')\n",
    "\n",
    "        return code_snippet"
   ]
  },
  {
   "cell_type": "code",
   "execution_count": 16,
   "metadata": {},
   "outputs": [],
   "source": [
    "def ClassCreator2Code(node):# 미완\n",
    "    \n",
    "    argments='('\n",
    "    for arg in node.arguments:\n",
    "        argments+=func_dict[type(arg).__name__](arg)+','\n",
    "    \n",
    "    argments=argments.rstrip(',')+')'\n",
    "    code_snippet='new '+Type2Code(node.type)+argments\n",
    "    if node.body:\n",
    "        code_snippet+='{'\n",
    "        for b in node.body:\n",
    "            code_snippet+=func_dict[type(b).__name__](b)\n",
    "        code_snippet+='}'\n",
    "    if node.selectors:\n",
    "        for index in node.selectors:\n",
    "            if type(index).__name__ != 'ArraySelector':\n",
    "                code_snippet+='.'    \n",
    "            code_snippet+=func_dict[type(index).__name__](index)    \n",
    "    return code_snippet"
   ]
  },
  {
   "cell_type": "code",
   "execution_count": 17,
   "metadata": {},
   "outputs": [],
   "source": [
    "def MemberReference2Code(node):\n",
    "    \n",
    "    code_snippet=(''.join(node.prefix_operators) if node.prefix_operators else '')+(node.qualifier+'.' if node.qualifier else '')+node.member \n",
    "    selector=''\n",
    "    if node.selectors:\n",
    "        for index in node.selectors:\n",
    "            if type(index).__name__ != 'ArraySelector':\n",
    "                selector+='.'    \n",
    "            selector+=func_dict[type(index).__name__](index)\n",
    "    code_snippet+=selector\n",
    "    return code_snippet+(''.join(node.postfix_operators) if node.postfix_operators else '')"
   ]
  },
  {
   "cell_type": "code",
   "execution_count": 18,
   "metadata": {},
   "outputs": [],
   "source": [
    "def ForStatement2Code(node):\n",
    "    code_snippet='for ( '\n",
    "    code_snippet+=func_dict[type(node.control).__name__](node.control)\n",
    "    # control= node.control\n",
    "    # if node.control.init:\n",
    "    #     if type(node.control.init) == list:\n",
    "    #         code_snippet+= ''.join([func_dict[type(i).__name__](i).rstrip(';\\n') for i in node.control.init])\n",
    "    #     else:\n",
    "    #         code_snippet+=func_dict[type(node.control.init).__name__](node.control.init).rstrip(';\\n')\n",
    "    \n",
    "    # code_snippet+=';'\n",
    "    # if node.control.condition:\n",
    "    #     code_snippet+=func_dict[type(node.control.condition).__name__](node.control.condition)\n",
    "    # code_snippet +=';'\n",
    "    # if node.control.update:\n",
    "    #     for update in node.control.update:\n",
    "    #         code_snippet+=func_dict[type(update).__name__](update)\n",
    "    code_snippet+= ')\\n'\n",
    "    \n",
    "    code_snippet+= func_dict[type(node.body).__name__](node.body)\n",
    "        \n",
    "    return code_snippet"
   ]
  },
  {
   "cell_type": "code",
   "execution_count": 19,
   "metadata": {},
   "outputs": [],
   "source": [
    "def ForControl2Code(node):\n",
    "    code_snippet=''\n",
    "    if node.init:\n",
    "        if type(node.init) == list:\n",
    "            code_snippet+= ','.join([func_dict[type(i).__name__](i).rstrip(';\\n') for i in node.init])\n",
    "        else:\n",
    "            code_snippet+=func_dict[type(node.init).__name__](node.init).rstrip(';\\n')\n",
    "    \n",
    "    code_snippet+=';'\n",
    "    if node.condition:\n",
    "        code_snippet+=func_dict[type(node.condition).__name__](node.condition)\n",
    "    code_snippet +=';'\n",
    "    if node.update:\n",
    "        \n",
    "        code_snippet+= ','.join([func_dict[type(update).__name__](update).rstrip(';\\n') for update in node.update])\n",
    "    return code_snippet"
   ]
  },
  {
   "cell_type": "code",
   "execution_count": 20,
   "metadata": {},
   "outputs": [],
   "source": [
    "def EnhancedForControl2Code(node):\n",
    "    code_snippet=''\n",
    "    code_snippet+=func_dict[type(node.var).__name__](node.var)+':'\n",
    "    code_snippet+=func_dict[type(node.iterable).__name__](node.iterable)\n",
    "    return code_snippet"
   ]
  },
  {
   "cell_type": "code",
   "execution_count": 21,
   "metadata": {},
   "outputs": [],
   "source": [
    "def IfStatement2Code(node):\n",
    "    code_snippet='if ( '\n",
    "    code_snippet+= func_dict[type(node.condition).__name__](node.condition)+')'\n",
    "    code_snippet+='\\n'+func_dict[type(node.then_statement).__name__](node.then_statement)+'\\n'\n",
    "    if node.else_statement:\n",
    "        code_snippet+='else '+func_dict[type(node.else_statement).__name__](node.else_statement)\n",
    "    return code_snippet\n",
    "    \n",
    "    "
   ]
  },
  {
   "cell_type": "code",
   "execution_count": 22,
   "metadata": {},
   "outputs": [],
   "source": [
    "def BlockStatement2Code(node):\n",
    "    code_snippet=\"{\"\n",
    "    for block_item in node.statements:\n",
    "        code_snippet+=func_dict[type(block_item).__name__](block_item)\n",
    "    code_snippet+=\"}\"\n",
    "    return code_snippet\n",
    "    "
   ]
  },
  {
   "cell_type": "code",
   "execution_count": 23,
   "metadata": {},
   "outputs": [],
   "source": [
    "def BinaryOperation2Code(node):\n",
    "    code_snippet=''\n",
    "    operandl=func_dict[type(node.operandl).__name__](node.operandl)\n",
    "    if type(node.operandl).__name__== 'Assignment':\n",
    "        code_snippet+='('+operandl+')'\n",
    "    else:\n",
    "        code_snippet+= operandl\n",
    "    code_snippet+=' ' +node.operator +' '\n",
    "    \n",
    "    operandr=func_dict[type(node.operandr).__name__](node.operandr)\n",
    "    if type(node.operandr).__name__== 'Assignment':\n",
    "        code_snippet+='('+operandr+')'\n",
    "    else:\n",
    "        code_snippet+= operandr\n",
    "    return '('+code_snippet+')'"
   ]
  },
  {
   "cell_type": "code",
   "execution_count": 24,
   "metadata": {},
   "outputs": [],
   "source": [
    "def Literal2Code(node):\n",
    "    code_snippet=node.value\n",
    "    prefix=''.join(node.prefix_operators if node.prefix_operators else '')\n",
    "    postfix=''.join(node.postfix_operators if node.postfix_operators else '')\n",
    "    for s in node.selectors:\n",
    "        if not type(s).__name__ =='ArraySelector':\n",
    "            code_snippet+= '.'    \n",
    "        code_snippet+=func_dict[type(s).__name__](s)\n",
    "    return prefix+code_snippet+postfix"
   ]
  },
  {
   "cell_type": "code",
   "execution_count": 25,
   "metadata": {},
   "outputs": [],
   "source": [
    "def ArrayCreator2Code(node):\n",
    "    code_snippet='new '\n",
    "    code_snippet+= Type2Code(node.type)\n",
    "    for dim in node.dimensions:\n",
    "        code_snippet+= '['+func_dict[type(dim).__name__](dim)+']'\n",
    "    if node.initializer:\n",
    "        code_snippet+=func_dict[type(node.initializer).__name__](node.initializer)\n",
    "    return code_snippet"
   ]
  },
  {
   "cell_type": "code",
   "execution_count": 26,
   "metadata": {},
   "outputs": [],
   "source": [
    "def ArrayInitializer2Code(node):\n",
    "    code_snippet='{'\n",
    "    for init in node.initializers:\n",
    "        code_snippet+=func_dict[type(init).__name__](init)+','\n",
    "    return code_snippet.rstrip(',')+'}'"
   ]
  },
  {
   "cell_type": "code",
   "execution_count": 28,
   "metadata": {},
   "outputs": [],
   "source": [
    "def Cast2Code(node):\n",
    "    code_snippet='('+Type2Code(node.type)+')'\n",
    "    code_snippet+=func_dict[type(node.expression).__name__](node.expression)\n",
    "    return code_snippet"
   ]
  },
  {
   "cell_type": "code",
   "execution_count": 29,
   "metadata": {},
   "outputs": [],
   "source": [
    "def StatementExpression2Code(node):\n",
    "    code_snippet=''\n",
    "    # print(node)\n",
    "    code_snippet+=func_dict[type(node.expression).__name__](node.expression)\n",
    "\n",
    "    return code_snippet+';\\n'"
   ]
  },
  {
   "cell_type": "code",
   "execution_count": 30,
   "metadata": {},
   "outputs": [],
   "source": [
    "def Assignment2Code(node):\n",
    "    \n",
    "    code_snippet=func_dict[type(node.expressionl).__name__](node.expressionl)\n",
    "\n",
    "    code_snippet+=' ' +node.type+' '\n",
    "    code_snippet+= func_dict[type(node.value).__name__](node.value)\n",
    "    return code_snippet"
   ]
  },
  {
   "cell_type": "code",
   "execution_count": 31,
   "metadata": {},
   "outputs": [],
   "source": [
    "def MethodInvocation2Code(node):\n",
    "    code_snippet=(node.qualifier+'.' if node.qualifier else '')\n",
    "    code_snippet+=node.member+'('\n",
    "    args=''\n",
    "    \n",
    "    for arg in node.arguments:\n",
    "        args+=func_dict[type(arg).__name__](arg)+','\n",
    "    code_snippet+=args.rstrip(',')+')'\n",
    "    if node.selectors:\n",
    "        for s in node.selectors:\n",
    "            if not type(s).__name__ in ['ArraySelector']:\n",
    "                code_snippet+= '.'\n",
    "            code_snippet+=func_dict[type(s).__name__](s)\n",
    "    prefix_operators=node.prefix_operators if node.prefix_operators else []\n",
    "    postfix_operators=node.postfix_operators if node.postfix_operators else []\n",
    "    \n",
    "    return ''.join(prefix_operators)+code_snippet+''.join(postfix_operators)"
   ]
  },
  {
   "cell_type": "code",
   "execution_count": 32,
   "metadata": {},
   "outputs": [],
   "source": [
    "def ArraySelector2Code(node):\n",
    "    code_snippet='['\n",
    "    code_snippet+=func_dict[type(node.index).__name__](node.index)\n",
    "    code_snippet+=']'\n",
    "    return code_snippet"
   ]
  },
  {
   "cell_type": "code",
   "execution_count": 33,
   "metadata": {},
   "outputs": [],
   "source": [
    "def ReturnStatement2Code(node):\n",
    "    code_snippet='return '\n",
    "    expression=func_dict[type(node.expression).__name__](node.expression)\n",
    "    return code_snippet+expression+';'"
   ]
  },
  {
   "cell_type": "code",
   "execution_count": 34,
   "metadata": {},
   "outputs": [],
   "source": [
    "def TryStatement2Code(node):\n",
    "    code_snippet='try'\n",
    "    if node.resources:\n",
    "        code_snippet+='('\n",
    "        for resource in node.resources:\n",
    "            code_snippet+=func_dict[type(resource).__name__](resource)\n",
    "        code_snippet+=')'\n",
    "        \n",
    "    code_snippet+='{'\n",
    "    for b in node.block:\n",
    "        code_snippet+=func_dict[type(b).__name__](b)\n",
    "    code_snippet+='\\n}'\n",
    "    if node.catches:\n",
    "        for catch in node.catches:\n",
    "            code_snippet+= func_dict[type(catch).__name__](catch)\n",
    "    return code_snippet"
   ]
  },
  {
   "cell_type": "code",
   "execution_count": 35,
   "metadata": {},
   "outputs": [],
   "source": [
    "def CatchClause2Code(node):\n",
    "\n",
    "    code_snippet= 'catch ('+func_dict[type(node.parameter).__name__](node.parameter) +')'\n",
    "    code_snippet+='{\\n'\n",
    "    for catch_block in node.block:\n",
    "        code_snippet+=func_dict[type(catch_block).__name__](catch_block)\n",
    "    code_snippet+='}\\n'\n",
    "\n",
    "    return code_snippet"
   ]
  },
  {
   "cell_type": "code",
   "execution_count": 36,
   "metadata": {},
   "outputs": [],
   "source": [
    "def CatchClauseParameter2Code(node):\n",
    "    code_snippet=''\n",
    "    for p in node.types:\n",
    "        code_snippet+=p+' '\n",
    "    code_snippet+=node.name\n",
    "    return code_snippet"
   ]
  },
  {
   "cell_type": "code",
   "execution_count": 37,
   "metadata": {},
   "outputs": [],
   "source": [
    "def ThrowStatement2Code(node):\n",
    "    code_snippet='throw ('\n",
    "    code_snippet+=func_dict[type(node.expression).__name__](node.expression)\n",
    "    code_snippet+=')'\n",
    "    return code_snippet +';'"
   ]
  },
  {
   "cell_type": "code",
   "execution_count": 38,
   "metadata": {},
   "outputs": [],
   "source": [
    "def TryResource2Code(node):\n",
    "    code_snippet=Type2Code(node.type)+' '\n",
    "    code_snippet+= node.name\n",
    "\n",
    "    code_snippet+='='+func_dict[type(node.value).__name__](node.value)\n",
    "    return code_snippet\n",
    "    "
   ]
  },
  {
   "cell_type": "code",
   "execution_count": 39,
   "metadata": {},
   "outputs": [],
   "source": [
    "def This2Code(node):\n",
    "    prefix=''.join(node.prefix_operators if node.prefix_operators else '')\n",
    "    postfix=''.join(node.postfix_operators if node.postfix_operators else '')\n",
    "\n",
    "    code_snippet='this'\n",
    "    for s in node.selectors:\n",
    "        if not type(s).__name__ =='ArraySelector':\n",
    "            code_snippet+= '.'    \n",
    "        code_snippet+=func_dict[type(s).__name__](s)\n",
    "    return prefix+code_snippet+postfix"
   ]
  },
  {
   "cell_type": "code",
   "execution_count": 40,
   "metadata": {},
   "outputs": [],
   "source": [
    "def TernaryExpression2Code(node):\n",
    "    code_snippet='('\n",
    "    if node.condition:\n",
    "        code_snippet+=func_dict[type(node.condition).__name__](node.condition)#.lstrip('(').rstrip(')')\n",
    "    code_snippet+='?'\n",
    "    if node.if_true:\n",
    "        if type(node.if_true).__name__ == 'Assignment':\n",
    "            code_snippet+='('+func_dict[type(node.if_true).__name__](node.if_true) +')'\n",
    "        else:\n",
    "            code_snippet+=func_dict[type(node.if_true).__name__](node.if_true)\n",
    "    code_snippet+=':'\n",
    "    if node.if_false:\n",
    "        if type(node.if_false).__name__ == 'Assignment':\n",
    "            code_snippet+='('+func_dict[type(node.if_false).__name__](node.if_false) +')'\n",
    "        else:\n",
    "            code_snippet+=func_dict[type(node.if_false).__name__](node.if_false)\n",
    "    code_snippet+=')'\n",
    "    return code_snippet\n",
    "    "
   ]
  },
  {
   "cell_type": "code",
   "execution_count": 41,
   "metadata": {},
   "outputs": [],
   "source": [
    "def BreakStatement2Code(node):\n",
    "    code_snippet='break'\n",
    "    return code_snippet+';'"
   ]
  },
  {
   "cell_type": "code",
   "execution_count": 42,
   "metadata": {},
   "outputs": [],
   "source": [
    "def ExplicitConstructorInvocation2Code(node):\n",
    "    \n",
    "    code_snippet='this('\n",
    "    for argument in node.arguments:\n",
    "        code_snippet+=func_dict[type(argument).__name__](argument)+','\n",
    "    code_snippet=code_snippet.rstrip(',')\n",
    "    code_snippet+=')'\n",
    "    return code_snippet"
   ]
  },
  {
   "cell_type": "code",
   "execution_count": 43,
   "metadata": {},
   "outputs": [],
   "source": [
    "def DoStatement2Code(node):\n",
    "    code_snippet='do '+func_dict[type(node.body).__name__](node.body)\n",
    "    code_snippet+='while('+func_dict[type(node.condition).__name__](node.condition)+')'\n",
    "    return code_snippet+';'"
   ]
  },
  {
   "cell_type": "code",
   "execution_count": 44,
   "metadata": {},
   "outputs": [],
   "source": [
    "def ContinueStatement2Code(node):\n",
    "    code_snippet='continue' \n",
    "    if node.goto:\n",
    "        code_snippet+=' '+node.goto\n",
    "    return code_snippet+';'"
   ]
  },
  {
   "cell_type": "code",
   "execution_count": 45,
   "metadata": {},
   "outputs": [],
   "source": [
    "def Statement2Code(node):\n",
    "    return ';'"
   ]
  },
  {
   "cell_type": "code",
   "execution_count": 46,
   "metadata": {},
   "outputs": [],
   "source": [
    "def SuperConstructorInvocation2Code(node):\n",
    "    code_snippet='super'\n",
    "    code_snippet+='('\n",
    "    if node.arguments:\n",
    "        for arg in node.arguments:\n",
    "            code_snippet+=func_dict[type(arg).__name__](arg)\n",
    "    code_snippet+=')'\n",
    "        \n",
    "    return code_snippet"
   ]
  },
  {
   "cell_type": "code",
   "execution_count": 47,
   "metadata": {},
   "outputs": [],
   "source": [
    "def SwitchStatement2Code(node):\n",
    "    code_snippet='switch('+func_dict[type(node.expression).__name__](node.expression)+'){\\n'\n",
    "\n",
    "    for case in node.cases:\n",
    "        if case.case:\n",
    "            code_snippet+='case '\n",
    "            for cons in case.case:\n",
    "                code_snippet+=func_dict[type(cons).__name__](cons)+','\n",
    "            code_snippet=code_snippet.rstrip(',')\n",
    "        else:\n",
    "            code_snippet+='default '\n",
    "        code_snippet+=':'\n",
    "        for statement in case.statements:\n",
    "            code_snippet+=func_dict[type(statement).__name__](statement)\n",
    "        code_snippet+='\\n'\n",
    "\n",
    "    return code_snippet+'}\\n'"
   ]
  },
  {
   "cell_type": "code",
   "execution_count": 48,
   "metadata": {},
   "outputs": [],
   "source": [
    "def AssertStatement2Code(node):\n",
    "    code_snippet='assert '\n",
    "    code_snippet+=func_dict[type(node.condition).__name__](node.condition)\n",
    "    return code_snippet+';\\n'"
   ]
  },
  {
   "cell_type": "code",
   "execution_count": 49,
   "metadata": {},
   "outputs": [],
   "source": [
    "\n",
    "def SuperMethodInvocation2Code(node):\n",
    "    code_snippet='super.'\n",
    "    code_snippet+=node.member\n",
    "    return code_snippet+'()'"
   ]
  },
  {
   "cell_type": "code",
   "execution_count": 50,
   "metadata": {},
   "outputs": [],
   "source": [
    "def BasicType2Code(node):\n",
    " \n",
    "    return node.name +('[]'*len(node.dimensions) if node.dimensions else '')"
   ]
  },
  {
   "cell_type": "code",
   "execution_count": 51,
   "metadata": {},
   "outputs": [],
   "source": [
    "def LambdaExpression2Code(node):\n",
    "    code_snippet=''\n",
    "    code_snippet+=','.join(func_dict[type(pram).__name__](pram) for pram in node.parameters)\n",
    "    if len(node.parameters)>1:\n",
    "        code_snippet='('+code_snippet+')'\n",
    "\n",
    "    code_snippet+='->'\n",
    "    if type(node.body) ==list:\n",
    "            code_snippet+='{'\n",
    "            code_snippet+=''.join(func_dict[type(b).__name__](b) for b in node.body)\n",
    "            code_snippet+='}'\n",
    "    else:\n",
    "        code_snippet+=func_dict[type(node.body).__name__](node.body)\n",
    "    return code_snippet"
   ]
  },
  {
   "cell_type": "code",
   "execution_count": 53,
   "metadata": {},
   "outputs": [],
   "source": [
    "def InferredFormalParameter2Code(node):\n",
    "    return node.name"
   ]
  }
 ],
 "metadata": {
  "interpreter": {
   "hash": "1d0c3caab67cdc3cb671aad33f4d3ea243842a14d4ea407190d5b54cd82f317a"
  },
  "kernelspec": {
   "display_name": "Python 3.8.3 64-bit ('base': conda)",
   "language": "python",
   "name": "python3"
  },
  "language_info": {
   "codemirror_mode": {
    "name": "ipython",
    "version": 3
   },
   "file_extension": ".py",
   "mimetype": "text/x-python",
   "name": "python",
   "nbconvert_exporter": "python",
   "pygments_lexer": "ipython3",
   "version": "3.7.11"
  },
  "orig_nbformat": 4
 },
 "nbformat": 4,
 "nbformat_minor": 2
}
