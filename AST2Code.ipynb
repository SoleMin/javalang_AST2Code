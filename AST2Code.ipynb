{
 "cells": [
  {
   "cell_type": "code",
   "execution_count": 40,
   "metadata": {},
   "outputs": [],
   "source": [
    "import javalang\n",
    "import pandas as pd\n",
    "from func import *"
   ]
  },
  {
   "cell_type": "code",
   "execution_count": 247,
   "metadata": {},
   "outputs": [],
   "source": [
    "data=pd.read_csv('complexity_data/finalFeatureData.csv')\n",
    "file_data=list(data['file_name'])"
   ]
  },
  {
   "cell_type": "code",
   "execution_count": 293,
   "metadata": {},
   "outputs": [
    {
     "name": "stdout",
     "output_type": "stream",
     "text": [
      "0 miss match\n",
      "3 miss match\n",
      "4 miss match\n",
      "15 miss match\n",
      "17 miss match\n",
      "18 miss match\n",
      "19 miss match\n",
      "20 miss match\n",
      "21 miss match\n",
      "22 miss match\n",
      "23 miss match\n",
      "24 miss match\n",
      "25 miss match\n",
      "26 miss match\n",
      "27 miss match\n",
      "28 miss match\n",
      "29 miss match\n",
      "30 miss match\n",
      "31 miss match\n",
      "32 miss match\n",
      "33 miss match\n",
      "34 miss match\n",
      "35 miss match\n",
      "36 miss match\n",
      "37 miss match\n",
      "38 miss match\n",
      "39 miss match\n",
      "40 miss match\n",
      "41 miss match\n",
      "42 miss match\n",
      "43 miss match\n",
      "44 miss match\n",
      "45 miss match\n",
      "46 miss match\n",
      "47 miss match\n",
      "1101.java\n"
     ]
    }
   ],
   "source": [
    "for f_n in file_data:\n",
    "    f = open('complexity_data/origin/' + f_n)\n",
    "    source = f.read()\n",
    "    f.close()\n",
    "    tree=javalang.parse.parse(source)\n",
    "    if not equal_test(tree):\n",
    "        print(f_n)\n",
    "        break\n"
   ]
  },
  {
   "cell_type": "code",
   "execution_count": 228,
   "metadata": {},
   "outputs": [
    {
     "name": "stdout",
     "output_type": "stream",
     "text": [
      "IfStatement(condition=BinaryOperation(operandl=MemberReference(member=x, postfix_operators=[], prefix_operators=[], qualifier=, selectors=[]), operandr=Literal(postfix_operators=[], prefix_operators=[], qualifier=None, selectors=[], value=4), operator=<=), else_statement=None, label=None, then_statement=StatementExpression(expression=MemberReference(member=freq, postfix_operators=['++'], prefix_operators=[], qualifier=, selectors=[ArraySelector(index=MemberReference(member=x, postfix_operators=[], prefix_operators=[], qualifier=, selectors=[]))]), label=None))\n",
      "IfStatement(condition=BinaryOperation(operandl=BinaryOperation(operandl=BinaryOperation(operandl=MemberReference(member=freq, postfix_operators=[], prefix_operators=[], qualifier=, selectors=[ArraySelector(index=Literal(postfix_operators=[], prefix_operators=[], qualifier=None, selectors=[], value=1))]), operandr=Literal(postfix_operators=[], prefix_operators=[], qualifier=None, selectors=[], value=1), operator=>=), operandr=BinaryOperation(operandl=MemberReference(member=freq, postfix_operators=[], prefix_operators=[], qualifier=, selectors=[ArraySelector(index=Literal(postfix_operators=[], prefix_operators=[], qualifier=None, selectors=[], value=2))]), operandr=Literal(postfix_operators=[], prefix_operators=[], qualifier=None, selectors=[], value=2), operator=>=), operator=||), operandr=BinaryOperation(operandl=MemberReference(member=freq, postfix_operators=[], prefix_operators=[], qualifier=, selectors=[ArraySelector(index=Literal(postfix_operators=[], prefix_operators=[], qualifier=None, selectors=[], value=3))]), operandr=Literal(postfix_operators=[], prefix_operators=[], qualifier=None, selectors=[], value=3), operator=>=), operator=||), else_statement=StatementExpression(expression=MethodInvocation(arguments=[Literal(postfix_operators=[], prefix_operators=[], qualifier=None, selectors=[], value=\"NO\")], member=println, postfix_operators=[], prefix_operators=[], qualifier=out, selectors=[], type_arguments=None), label=None), label=None, then_statement=StatementExpression(expression=MethodInvocation(arguments=[Literal(postfix_operators=[], prefix_operators=[], qualifier=None, selectors=[], value=\"YES\")], member=println, postfix_operators=[], prefix_operators=[], qualifier=out, selectors=[], type_arguments=None), label=None))\n"
     ]
    }
   ],
   "source": [
    "sample=[]\n",
    "\n",
    "for _,node in tree:\n",
    "    if type(node)== javalang.tree.IfStatement:\n",
    "        print(node)\n",
    "        sample.append(node)\n",
    "        "
   ]
  },
  {
   "cell_type": "code",
   "execution_count": 294,
   "metadata": {},
   "outputs": [],
   "source": [
    "f = open('complexity_data/origin/1101.java')\n",
    "source = f.read()\n",
    "f.close()\n",
    "tree=javalang.parse.parse(source)"
   ]
  },
  {
   "cell_type": "code",
   "execution_count": 295,
   "metadata": {},
   "outputs": [],
   "source": [
    "root=tree.__iter__().__next__()[1]"
   ]
  },
  {
   "cell_type": "code",
   "execution_count": 289,
   "metadata": {},
   "outputs": [],
   "source": [
    "func_dict={\"ClassCreator\":ClassCreator2Code,\n",
    "\"Literal\":Literal2Code,\n",
    "    'BinaryOperation':BinaryOperation2Code,\n",
    "    'MemberReference':MemberReference2Code,\n",
    "    'BlockStatement':BlockStatement2Code,\n",
    "    'LocalVariableDeclaration':LocalVariableDeclaration2Code,\n",
    "    'VariableDeclarator':VariableDeclarator2Code,\n",
    "    'ArrayCreator': ArrayCreator2Code,\n",
    "    'StatementExpression':StatementExpression2Code,\n",
    "    'ArraySelector':ArraySelector2Code,\n",
    "    'MethodInvocation':MethodInvocation2Code,\n",
    "    'Assignment':Assignment2Code,\n",
    "    'IfStatement':IfStatement2Code,\n",
    "    'ForStatement':ForStatement2Code,\n",
    "    'MethodDeclaration':MethodDeclaration2Code,\n",
    "    'Cast':Cast2Code,\n",
    "    'ReturnStatement':ReturnStatement2Code,\n",
    "    'ClassDeclaration':ClassDeclaration2Code,\n",
    "    'FieldDeclaration':FieldDeclaration2Code,\n",
    "    'NoneType':Nonetype,\n",
    "    'ConstructorDeclaration':ConstructorDeclaration2Code,\n",
    "    'WhileStatement':WhileStatement2Code,\n",
    "    'TryStatement':TryStatement2Code,\n",
    "    'CatchClauseParameter':CatchClauseParameter2Code,\n",
    "    'ThrowStatement':ThrowStatement2Code,\n",
    "    'CatchClause':CatchClause2Code\n",
    "}"
   ]
  },
  {
   "cell_type": "code",
   "execution_count": 205,
   "metadata": {},
   "outputs": [
    {
     "data": {
      "text/plain": [
       "327"
      ]
     },
     "execution_count": 205,
     "metadata": {},
     "output_type": "execute_result"
    }
   ],
   "source": [
    "len(list(tree))"
   ]
  },
  {
   "cell_type": "code",
   "execution_count": null,
   "metadata": {},
   "outputs": [],
   "source": [
    "root.types[0]"
   ]
  },
  {
   "cell_type": "code",
   "execution_count": 291,
   "metadata": {},
   "outputs": [],
   "source": [
    "tree2=javalang.parse.parse(AST2Code(root))"
   ]
  },
  {
   "cell_type": "code",
   "execution_count": 290,
   "metadata": {},
   "outputs": [
    {
     "name": "stdout",
     "output_type": "stream",
     "text": [
      "Import(path=java.lang.Math, static=True, wildcard=True)\n",
      "\n",
      "Import(path=java.lang.Math, static=True, wildcard=True)\n",
      "True\n"
     ]
    }
   ],
   "source": [
    "tree2=javalang.parse.parse(AST2Code(root))\n",
    "idx=2\n",
    "\n",
    "list_tree=[]\n",
    "list_tree2=[]\n",
    "for _,node in tree:\n",
    "    list_tree.append(node)\n",
    "for _,node in tree2:\n",
    "    list_tree2.append(node)\n",
    "\n",
    "print(list_tree[idx],end='\\n\\n')\n",
    "print(list_tree2[idx])\n",
    "print(str(list_tree[idx]) == str(list_tree2[idx]))"
   ]
  },
  {
   "cell_type": "code",
   "execution_count": 297,
   "metadata": {},
   "outputs": [
    {
     "name": "stdout",
     "output_type": "stream",
     "text": [
      "0 miss match\n",
      "3 miss match\n",
      "4 miss match\n",
      "15 miss match\n",
      "17 miss match\n",
      "18 miss match\n",
      "19 miss match\n",
      "20 miss match\n",
      "21 miss match\n",
      "22 miss match\n",
      "23 miss match\n",
      "24 miss match\n",
      "25 miss match\n",
      "26 miss match\n",
      "27 miss match\n",
      "28 miss match\n",
      "29 miss match\n",
      "30 miss match\n",
      "31 miss match\n",
      "32 miss match\n",
      "33 miss match\n",
      "34 miss match\n",
      "35 miss match\n",
      "36 miss match\n",
      "37 miss match\n",
      "38 miss match\n",
      "39 miss match\n",
      "40 miss match\n",
      "41 miss match\n",
      "42 miss match\n",
      "43 miss match\n",
      "44 miss match\n",
      "45 miss match\n",
      "46 miss match\n",
      "47 miss match\n"
     ]
    },
    {
     "data": {
      "text/plain": [
       "False"
      ]
     },
     "execution_count": 297,
     "metadata": {},
     "output_type": "execute_result"
    }
   ],
   "source": [
    "equal_test(tree)"
   ]
  },
  {
   "cell_type": "code",
   "execution_count": 296,
   "metadata": {},
   "outputs": [
    {
     "name": "stdout",
     "output_type": "stream",
     "text": [
      "import java.io.BufferedReader;\n",
      "import java.io.InputStreamReader;\n",
      "public  class TestClass1{\n",
      "public static void main(String[] args)throws Exception{\n",
      "BufferedReader br  = new BufferedReader(new InputStreamReader(System.in));\n",
      "String s[]  = br.readLine();\n",
      "long A ;\n",
      "B ;\n",
      "y ;\n",
      "g ;\n",
      "b ;\n",
      "A = Long.parseLong(s[0]);\n",
      "B = Long.parseLong(s[1]);\n",
      "s = br.readLine();\n",
      "y = Long.parseLong(s[0]);\n",
      "g = Long.parseLong(s[1]);\n",
      "b = Long.parseLong(s[2]);\n",
      "long ans  = 0;\n",
      "if ( (((A - (2 * y)) - g) < 0))\n",
      "{ans += Math.abs(((A - (2 * y)) - g));\n",
      "}\n",
      "if ( (((B - g) - (3 * b)) < 0))\n",
      "{ans += Math.abs(((B - g) - (3 * b)));\n",
      "}\n",
      "System.out.println(ans);\n",
      "}\n",
      "}\n"
     ]
    }
   ],
   "source": [
    "print(AST2Code(root))"
   ]
  },
  {
   "cell_type": "code",
   "execution_count": 256,
   "metadata": {},
   "outputs": [],
   "source": [
    "def equal_test(tree1):\n",
    "\n",
    "    list_tree=[]\n",
    "    list_tree2=[]\n",
    "    root=tree.__iter__().__next__()[1]\n",
    "    tree2=javalang.parse.parse(AST2Code(root))\n",
    "    for _,node in tree1:\n",
    "        list_tree.append(node)\n",
    "    for _,node in tree2:\n",
    "        list_tree2.append(node)\n",
    "    \n",
    "    if len(list_tree) != len(list_tree2):\n",
    "        print('length miss match!')\n",
    "        return False\n",
    "    match=True\n",
    "    for idx in range(len(list_tree)):\n",
    "        if str(list_tree[idx]) != str(list_tree2[idx]):\n",
    "            print(f'{idx } miss match')\n",
    "            match=False\n",
    "    if match:\n",
    "        return True\n",
    "    else:\n",
    "        return False\n",
    "            \n",
    "    "
   ]
  },
  {
   "cell_type": "code",
   "execution_count": 288,
   "metadata": {},
   "outputs": [],
   "source": [
    "def AST2Code(root):\n",
    "    code=''\n",
    "    for import_item in root.imports:\n",
    "        code+= 'import '+('static ' if import_item.static else '') +import_item.path+ ('.*' if import_item.wildcard else '') + ';\\n'\n",
    "    childs=root.types\n",
    "    for child in root.types:\n",
    "        code+=func_dict[type(child).__name__](child)\n",
    "    return code"
   ]
  },
  {
   "cell_type": "code",
   "execution_count": 9,
   "metadata": {},
   "outputs": [],
   "source": [
    "def Nonetype(node):\n",
    "    return ''"
   ]
  },
  {
   "cell_type": "code",
   "execution_count": 132,
   "metadata": {},
   "outputs": [],
   "source": [
    "def FieldDeclaration2Code(node):\n",
    "    code_snippet=''\n",
    "    for modifier in node.modifiers:\n",
    "        code_snippet+=modifier+' '\n",
    "    code_snippet+=Type2Code(node.type)+' '\n",
    "    for declarator in node.declarators:\n",
    "        code_snippet+= \" \"+func_dict[type(declarator).__name__](declarator)\n",
    "\n",
    "    return code_snippet"
   ]
  },
  {
   "cell_type": "code",
   "execution_count": 11,
   "metadata": {},
   "outputs": [],
   "source": [
    "def WhileStatement2Code(node):\n",
    "    code_snippet='while('+func_dict[type(node.condition).__name__](node.condition)+')'\n",
    "    code_snippet+=func_dict[type(node.body).__name__](node.body)\n",
    "    return code_snippet"
   ]
  },
  {
   "cell_type": "code",
   "execution_count": 12,
   "metadata": {},
   "outputs": [],
   "source": [
    "def ConstructorDeclaration2Code(node):\n",
    "    code_snippet=''\n",
    "    for modifier in node.modifiers:\n",
    "        code_snippet+=' '+modifier\n",
    "    code_snippet+=' '+ node.name\n",
    "    code_snippet=code_snippet.lstrip()\n",
    "    paramter=''\n",
    "    for pram in node.parameters:\n",
    "        paramter+=pram.type.name + ('[]'*len(pram.type.dimensions)) +' '+ pram.name +','\n",
    "    code_snippet+='('+paramter.rstrip(',')+'){\\n'\n",
    "    for child in node.body:\n",
    "        code_snippet+= func_dict[type(child).__name__](child)\n",
    "    return code_snippet+'}\\n'"
   ]
  },
  {
   "cell_type": "code",
   "execution_count": 13,
   "metadata": {},
   "outputs": [],
   "source": [
    "def ClassDeclaration2Code(node):\n",
    "    code_snippet=''\n",
    "    for modifier in node.modifiers:\n",
    "        code_snippet+=modifier+' ' \n",
    "    code_snippet+=' class '+node.name +'{\\n'\n",
    "    \n",
    "    for class_item in node.body:\n",
    "        code_snippet+=func_dict[type(class_item).__name__](class_item)\n",
    "\n",
    "    return code_snippet+\"}\""
   ]
  },
  {
   "cell_type": "code",
   "execution_count": 181,
   "metadata": {},
   "outputs": [],
   "source": [
    "def MethodDeclaration2Code(node):\n",
    "    code_snippet=''\n",
    "    for modifier in node.modifiers:\n",
    "        code_snippet+=modifier+' ' \n",
    "    code_snippet+=(Type2Code(node.return_type) if node.return_type else 'void')+' '+node.name+'('\n",
    "    paramter=''\n",
    "    for pram in node.parameters:\n",
    "        paramter+=pram.type.name + ('[]'*len(pram.type.dimensions)) +' '+ pram.name +','\n",
    "\n",
    "    code_snippet+= paramter.rstrip(',')+')'+('throws ' +' '.join(node.throws) if node.throws else '')+'{\\n'\n",
    "\n",
    "    for method_item in node.body:\n",
    "        code_snippet+=func_dict[type(method_item).__name__](method_item)\n",
    "    return code_snippet+'}\\n'\n"
   ]
  },
  {
   "cell_type": "code",
   "execution_count": 279,
   "metadata": {},
   "outputs": [],
   "source": [
    "def LocalVariableDeclaration2Code(node):\n",
    "    code_snippet=Type2Code(node.type)+' '\n",
    "    for declarator in node.declarators:\n",
    "        code_snippet += func_dict[type(declarator).__name__](declarator)\n",
    "    return code_snippet#+'; \\n'"
   ]
  },
  {
   "cell_type": "code",
   "execution_count": 280,
   "metadata": {},
   "outputs": [],
   "source": [
    "def VariableDeclarator2Code(node):\n",
    "    code_snippet=node.name\n",
    "    code_snippet+=('[]'*len(node.dimensions) if node.dimensions else '')+' ' \n",
    "    \n",
    "    if node.initializer:\n",
    "        code_snippet+= ' = '+func_dict[type(node.initializer).__name__](node.initializer)\n",
    "    return code_snippet+';\\n'"
   ]
  },
  {
   "cell_type": "code",
   "execution_count": 17,
   "metadata": {},
   "outputs": [],
   "source": [
    "def VariableDeclaration2Code(node):\n",
    "    code_snippet=''\n",
    "    code_snippet+=Type2Code(node.type)+' '\n",
    "    operandr=''\n",
    "    operandl=''\n",
    "\n",
    "    for declarator in node.declarators:\n",
    "        operandr+=declarator.name +','\n",
    "        operandl += func_dict[type(declarator.initializer).__name__](declarator.initializer)+','\n",
    "\n",
    "    code_snippet +=operandr.rstrip(',')+' = '+operandl.rstrip(',')\n",
    "    return code_snippet\n",
    "    "
   ]
  },
  {
   "cell_type": "code",
   "execution_count": 18,
   "metadata": {},
   "outputs": [],
   "source": [
    "def Type2Code(node):\n",
    "\n",
    "    if type(node).__name__ == 'BasicType':\n",
    "        return node.name +('[]'*len(node.dimensions) if node.dimensions else '')\n",
    "    elif type(node).__name__ == 'ReferenceType':\n",
    "        return node.name +('[]'*len(node.dimensions) if node.dimensions else '')\n",
    "    \n",
    "    "
   ]
  },
  {
   "cell_type": "code",
   "execution_count": 19,
   "metadata": {},
   "outputs": [],
   "source": [
    "def ClassCreator2Code(node):# 미완\n",
    "    \n",
    "    argments='('\n",
    "    for arg in node.arguments:\n",
    "        argments+=func_dict[type(arg).__name__](arg)\n",
    "    argments+=')'\n",
    "    code_snippet='new '+node.type.name+argments\n",
    "    return code_snippet"
   ]
  },
  {
   "cell_type": "code",
   "execution_count": 237,
   "metadata": {},
   "outputs": [],
   "source": [
    "def MemberReference2Code(node):\n",
    "    \n",
    "    code_snippet=''.join(node.prefix_operators)+(node.qualifier+'.' if node.qualifier else '')+node.member \n",
    "    selector=''\n",
    "    for index in node.selectors:\n",
    "        selector+=func_dict[type(index).__name__](index)\n",
    "    code_snippet+=selector\n",
    "    return code_snippet+''.join(node.postfix_operators)"
   ]
  },
  {
   "cell_type": "code",
   "execution_count": 118,
   "metadata": {},
   "outputs": [],
   "source": [
    "def ForStatement2Code(node):\n",
    "    code_snippet='for ( '\n",
    "    control= node.control\n",
    "    if node.control.init:\n",
    "        code_snippet+= VariableDeclaration2Code(node.control.init)+';'\n",
    "    if node.control.condition:\n",
    "        code_snippet+=func_dict[type(node.control.condition).__name__](node.control.condition) +' ; '\n",
    "    if node.control.update:\n",
    "        for update in node.control.update:\n",
    "            code_snippet+=func_dict[type(update).__name__](update)\n",
    "    code_snippet+= ')\\n'\n",
    "    \n",
    "    code_snippet+= func_dict[type(node.body).__name__](node.body)\n",
    "        \n",
    "    return code_snippet"
   ]
  },
  {
   "cell_type": "code",
   "execution_count": 153,
   "metadata": {},
   "outputs": [],
   "source": [
    "def IfStatement2Code(node):\n",
    "    code_snippet='if ( '\n",
    "    code_snippet+= func_dict[type(node.condition).__name__](node.condition)+')'\n",
    "    code_snippet+='\\n'+func_dict[type(node.then_statement).__name__](node.then_statement)+'\\n'\n",
    "    if node.else_statement:\n",
    "        code_snippet+='else '+func_dict[type(node.else_statement).__name__](node.else_statement)\n",
    "    return code_snippet\n",
    "    \n",
    "    "
   ]
  },
  {
   "cell_type": "code",
   "execution_count": 23,
   "metadata": {},
   "outputs": [],
   "source": [
    "def BlockStatement2Code(node):\n",
    "    code_snippet=\"{\"\n",
    "    for block_item in node.statements:\n",
    "        code_snippet+=func_dict[type(block_item).__name__](block_item)\n",
    "    code_snippet+=\"}\"\n",
    "    return code_snippet\n",
    "    "
   ]
  },
  {
   "cell_type": "code",
   "execution_count": 217,
   "metadata": {},
   "outputs": [],
   "source": [
    "def BinaryOperation2Code(node):\n",
    "    code_snippet=func_dict[type(node.operandl).__name__](node.operandl)\n",
    "    code_snippet+=' ' +node.operator +' '\n",
    "    code_snippet+=func_dict[type(node.operandr).__name__](node.operandr)\n",
    "    return '('+code_snippet+')'"
   ]
  },
  {
   "cell_type": "code",
   "execution_count": 25,
   "metadata": {},
   "outputs": [],
   "source": [
    "def Literal2Code(node):\n",
    "    \n",
    "    return node.value"
   ]
  },
  {
   "cell_type": "code",
   "execution_count": 26,
   "metadata": {},
   "outputs": [],
   "source": [
    "def ArrayCreator2Code(node):\n",
    "    code_snippet='new '\n",
    "    code_snippet+= Type2Code(node.type)\n",
    "    for dim in node.dimensions:\n",
    "        code_snippet+= '['+func_dict[type(dim).__name__](dim)+']'\n",
    "    return code_snippet"
   ]
  },
  {
   "cell_type": "code",
   "execution_count": 27,
   "metadata": {},
   "outputs": [],
   "source": [
    "def Cast2Code(node):\n",
    "    code_snippet='('+Type2Code(node.type)+')'\n",
    "    code_snippet+=func_dict[type(node.expression).__name__](node.expression)\n",
    "    return code_snippet"
   ]
  },
  {
   "cell_type": "code",
   "execution_count": 28,
   "metadata": {},
   "outputs": [],
   "source": [
    "def StatementExpression2Code(node):\n",
    "    code_snippet=''\n",
    "    # print(node)\n",
    "    code_snippet+=func_dict[type(node.expression).__name__](node.expression)\n",
    "    return code_snippet+';\\n'"
   ]
  },
  {
   "cell_type": "code",
   "execution_count": 29,
   "metadata": {},
   "outputs": [],
   "source": [
    "def Assignment2Code(node):\n",
    "    code_snippet=func_dict[type(node.expressionl).__name__](node.expressionl)\n",
    "\n",
    "    code_snippet+=' ' +node.type+' '\n",
    "    code_snippet+= func_dict[type(node.value).__name__](node.value)\n",
    "    return code_snippet"
   ]
  },
  {
   "cell_type": "code",
   "execution_count": 186,
   "metadata": {},
   "outputs": [],
   "source": [
    "def MethodInvocation2Code(node):\n",
    "    code_snippet=node.qualifier+('.' if node.qualifier else '')\n",
    "    code_snippet+=node.member+'('\n",
    "    args=''\n",
    "    \n",
    "    for arg in node.arguments:\n",
    "        args+=func_dict[type(arg).__name__](arg)+','\n",
    "    code_snippet+=args.rstrip(',')+')'\n",
    "    return ''.join(node.prefix_operators)+code_snippet+''.join(node.postfix_operators)"
   ]
  },
  {
   "cell_type": "code",
   "execution_count": 31,
   "metadata": {},
   "outputs": [],
   "source": [
    "def ArraySelector2Code(node):\n",
    "    code_snippet='['\n",
    "    code_snippet+=func_dict[type(node.index).__name__](node.index)\n",
    "    code_snippet+=']'\n",
    "    return code_snippet"
   ]
  },
  {
   "cell_type": "code",
   "execution_count": 135,
   "metadata": {},
   "outputs": [],
   "source": [
    "def ReturnStatement2Code(node):\n",
    "    return 'return '+func_dict[type(node.expression).__name__](node.expression)+';'"
   ]
  },
  {
   "cell_type": "code",
   "execution_count": 113,
   "metadata": {},
   "outputs": [],
   "source": [
    "def TryStatement2Code(node):\n",
    "    code_snippet='try {'\n",
    "    for b in node.block:\n",
    "        code_snippet+=func_dict[type(b).__name__](b)\n",
    "    code_snippet+='\\n}'\n",
    "    if node.catches:\n",
    "        for catch in node.catches:\n",
    "            code_snippet+= func_dict[type(catch).__name__](catch)\n",
    "    return code_snippet"
   ]
  },
  {
   "cell_type": "code",
   "execution_count": 104,
   "metadata": {},
   "outputs": [],
   "source": [
    "def CatchClause2Code(node):\n",
    "\n",
    "    code_snippet= 'catch ('+func_dict[type(node.parameter).__name__](node.parameter) +')'\n",
    "    code_snippet+='{\\n'\n",
    "    for catch_block in node.block:\n",
    "        code_snippet+=func_dict[type(catch_block).__name__](catch_block)\n",
    "    code_snippet+='}\\n'\n",
    "\n",
    "    return code_snippet"
   ]
  },
  {
   "cell_type": "code",
   "execution_count": 76,
   "metadata": {},
   "outputs": [],
   "source": [
    "def CatchClauseParameter2Code(node):\n",
    "    code_snippet=''\n",
    "    for p in node.types:\n",
    "        code_snippet+=p+' '\n",
    "    code_snippet+=node.name\n",
    "    return code_snippet"
   ]
  },
  {
   "cell_type": "code",
   "execution_count": 117,
   "metadata": {},
   "outputs": [],
   "source": [
    "def ThrowStatement2Code(node):\n",
    "    code_snippet='throw ('\n",
    "    code_snippet+=func_dict[type(node.expression).__name__](node.expression)\n",
    "    code_snippet+=')'\n",
    "    return code_snippet +';'"
   ]
  }
 ],
 "metadata": {
  "interpreter": {
   "hash": "1d0c3caab67cdc3cb671aad33f4d3ea243842a14d4ea407190d5b54cd82f317a"
  },
  "kernelspec": {
   "display_name": "Python 3.8.3 64-bit ('base': conda)",
   "language": "python",
   "name": "python3"
  },
  "language_info": {
   "codemirror_mode": {
    "name": "ipython",
    "version": 3
   },
   "file_extension": ".py",
   "mimetype": "text/x-python",
   "name": "python",
   "nbconvert_exporter": "python",
   "pygments_lexer": "ipython3",
   "version": "3.7.11"
  },
  "orig_nbformat": 4
 },
 "nbformat": 4,
 "nbformat_minor": 2
}
