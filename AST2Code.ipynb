{
 "cells": [
  {
   "cell_type": "code",
   "execution_count": 1,
   "metadata": {},
   "outputs": [],
   "source": [
    "import javalang\n",
    "import pandas as pd\n",
    "# from func import *"
   ]
  },
  {
   "cell_type": "code",
   "execution_count": 464,
   "metadata": {},
   "outputs": [],
   "source": [
    "data=pd.read_csv('complexity_data/finalFeatureData.csv')\n",
    "file_data=list(data['file_name'])"
   ]
  },
  {
   "cell_type": "code",
   "execution_count": 586,
   "metadata": {},
   "outputs": [
    {
     "name": "stdout",
     "output_type": "stream",
     "text": [
      "1001.java\n",
      "1100.java\n",
      "1101.java\n",
      "1102.java\n",
      "1103.java\n",
      "1104.java\n",
      "1105.java\n",
      "1106.java\n",
      "1107.java\n",
      "1108.java\n",
      "1109.java\n",
      "1110.java\n",
      "1111.java\n",
      "1112.java\n",
      "1114.java\n",
      "1115.java\n",
      "length miss match!\n",
      "1115.java\n"
     ]
    }
   ],
   "source": [
    "for f_n in file_data:\n",
    "    if not f_n in ['1113.java']:\n",
    "        f = open('complexity_data/origin/' + f_n)\n",
    "        source = f.read()\n",
    "        f.close()\n",
    "        print(f_n)\n",
    "        tree = javalang.parse.parse(source)\n",
    "        if not equal_test(tree):\n",
    "            print(f_n)\n",
    "            break\n"
   ]
  },
  {
   "cell_type": "code",
   "execution_count": 36,
   "metadata": {},
   "outputs": [],
   "source": [
    "sample=[]\n",
    "\n",
    "for _,node in tree:\n",
    "    if type(node)== javalang.tree.IfStatement:\n",
    "        print(node)\n",
    "        sample.append(node)\n",
    "        "
   ]
  },
  {
   "cell_type": "code",
   "execution_count": 634,
   "metadata": {},
   "outputs": [],
   "source": [
    "f = open('complexity_data/origin/1115.java')\n",
    "source = f.read()\n",
    "f.close()\n",
    "tree=javalang.parse.parse(source)\n",
    "root=tree.__iter__().__next__()[1]"
   ]
  },
  {
   "cell_type": "code",
   "execution_count": 660,
   "metadata": {},
   "outputs": [],
   "source": [
    "func_dict={\"ClassCreator\":ClassCreator2Code,\n",
    "\"Literal\":Literal2Code,\n",
    "    'BinaryOperation':BinaryOperation2Code,\n",
    "    'MemberReference':MemberReference2Code,\n",
    "    'BlockStatement':BlockStatement2Code,\n",
    "    'LocalVariableDeclaration':LocalVariableDeclaration2Code,\n",
    "    'VariableDeclaration':VariableDeclaration2Code,\n",
    "    'VariableDeclarator':VariableDeclarator2Code,\n",
    "    'ArrayCreator': ArrayCreator2Code,\n",
    "    'StatementExpression':StatementExpression2Code,\n",
    "    'ArraySelector':ArraySelector2Code,\n",
    "    'MethodInvocation':MethodInvocation2Code,\n",
    "    'Assignment':Assignment2Code,\n",
    "    'IfStatement':IfStatement2Code,\n",
    "    'ForStatement':ForStatement2Code,\n",
    "    'MethodDeclaration':MethodDeclaration2Code,\n",
    "    'Cast':Cast2Code,\n",
    "    'ReturnStatement':ReturnStatement2Code,\n",
    "    'ClassDeclaration':ClassDeclaration2Code,\n",
    "    'FieldDeclaration':FieldDeclaration2Code,\n",
    "    'NoneType':Nonetype,\n",
    "    'ConstructorDeclaration':ConstructorDeclaration2Code,\n",
    "    'WhileStatement':WhileStatement2Code,\n",
    "    'TryStatement':TryStatement2Code,\n",
    "    'CatchClauseParameter':CatchClauseParameter2Code,\n",
    "    'ThrowStatement':ThrowStatement2Code,\n",
    "    'CatchClause':CatchClause2Code,\n",
    "    'TryResource':TryResource2Code,\n",
    "    'This':This2Code,\n",
    "    'TernaryExpression':TernaryExpression2Code,\n",
    "    'BreakStatement':BreakStatement2Code\n",
    "}"
   ]
  },
  {
   "cell_type": "code",
   "execution_count": 40,
   "metadata": {},
   "outputs": [
    {
     "data": {
      "text/plain": [
       "120"
      ]
     },
     "execution_count": 40,
     "metadata": {},
     "output_type": "execute_result"
    }
   ],
   "source": [
    "len(list(tree))"
   ]
  },
  {
   "cell_type": "code",
   "execution_count": 436,
   "metadata": {},
   "outputs": [
    {
     "data": {
      "text/plain": [
       "['condition', 'if_true', 'if_false']"
      ]
     },
     "execution_count": 436,
     "metadata": {},
     "output_type": "execute_result"
    }
   ],
   "source": [
    "root.types[0].body[0].body[-1].expression.arguments[0].attrs"
   ]
  },
  {
   "cell_type": "code",
   "execution_count": null,
   "metadata": {},
   "outputs": [],
   "source": [
    "['prefix_operators',\n",
    " 'postfix_operators',\n",
    " 'qualifier',\n",
    " 'selectors',\n",
    " 'type',\n",
    " 'constructor_type_arguments',\n",
    " 'arguments',\n",
    " 'body']"
   ]
  },
  {
   "cell_type": "code",
   "execution_count": null,
   "metadata": {},
   "outputs": [],
   "source": [
    "['documentation',\n",
    " 'modifiers',\n",
    " 'annotations',\n",
    " 'type_parameters',\n",
    " 'return_type',\n",
    " 'name',\n",
    " 'parameters',\n",
    " 'throws',\n",
    " 'body']"
   ]
  },
  {
   "cell_type": "code",
   "execution_count": 548,
   "metadata": {},
   "outputs": [
    {
     "data": {
      "text/plain": [
       "[ClassCreator(arguments=[MemberReference(member=stream, postfix_operators=[], prefix_operators=[], qualifier=, selectors=[])], body=None, constructor_type_arguments=None, postfix_operators=[], prefix_operators=[], qualifier=None, selectors=[], type=ReferenceType(arguments=None, dimensions=None, name=InputStreamReader, sub_type=None)),\n",
       " Literal(postfix_operators=[], prefix_operators=[], qualifier=None, selectors=[], value=32768)]"
      ]
     },
     "execution_count": 548,
     "metadata": {},
     "output_type": "execute_result"
    }
   ],
   "source": [
    "root.types[2].body[2].body[0].expression.value.arguments"
   ]
  },
  {
   "cell_type": "code",
   "execution_count": 337,
   "metadata": {},
   "outputs": [
    {
     "ename": "NameError",
     "evalue": "name 'modifiers' is not defined",
     "output_type": "error",
     "traceback": [
      "\u001b[0;31m---------------------------------------------------------------------------\u001b[0m",
      "\u001b[0;31mNameError\u001b[0m                                 Traceback (most recent call last)",
      "\u001b[0;32m/tmp/ipykernel_31085/1281317192.py\u001b[0m in \u001b[0;36m<module>\u001b[0;34m\u001b[0m\n\u001b[0;32m----> 1\u001b[0;31m \u001b[0mmodifiers\u001b[0m\u001b[0;34m\u001b[0m\u001b[0;34m\u001b[0m\u001b[0m\n\u001b[0m",
      "\u001b[0;31mNameError\u001b[0m: name 'modifiers' is not defined"
     ]
    }
   ],
   "source": [
    "['modifiers',\n",
    " 'annotations',\n",
    " 'documentation',\n",
    " 'name',\n",
    " 'body',\n",
    " 'type_parameters',\n",
    " 'extends',\n",
    " 'implements']"
   ]
  },
  {
   "cell_type": "code",
   "execution_count": 184,
   "metadata": {},
   "outputs": [
    {
     "name": "stdout",
     "output_type": "stream",
     "text": [
      "public FastReader(String s)throws FileNotFoundException{\n",
      "br = new BufferedReader(new FileReader(new File(s)));\n",
      "}\n",
      "\n"
     ]
    }
   ],
   "source": [
    "print(ConstructorDeclaration2Code(root.types[0].body[6].body[3]))"
   ]
  },
  {
   "cell_type": "code",
   "execution_count": 166,
   "metadata": {},
   "outputs": [
    {
     "name": "stdout",
     "output_type": "stream",
     "text": [
      "static HashMap<Long,Integer> primeFactorization(long n){\n",
      "HashMap<Long,Integer> res  = new HashMap<>(); \n",
      "while(((n % 2) == 0)){res.put(2L,(res.getOrDefault(2L,0) + 1));\n",
      "n /= 2;\n",
      "}for ( long i = 3;((i * i) <= n);i += 2)\n",
      "{while(((n % i) == 0)){res.put(i,(res.getOrDefault(i,0) + 1));\n",
      "n /= i;\n",
      "}}if ( (n > 2))\n",
      "res.put(n,1);\n",
      "\n",
      "return res;}\n",
      "\n"
     ]
    }
   ],
   "source": [
    "print(MethodDeclaration2Code(root.types[0].body[5].body[8]))"
   ]
  },
  {
   "cell_type": "code",
   "execution_count": 42,
   "metadata": {},
   "outputs": [],
   "source": [
    "tree2=javalang.parse.parse(AST2Code(root))"
   ]
  },
  {
   "cell_type": "code",
   "execution_count": 665,
   "metadata": {},
   "outputs": [
    {
     "name": "stdout",
     "output_type": "stream",
     "text": [
      "ReturnStatement(expression=ClassCreator(arguments=[MemberReference(member=a, postfix_operators=[], prefix_operators=[], qualifier=, selectors=[]), MemberReference(member=b, postfix_operators=[], prefix_operators=[], qualifier=, selectors=[])], body=None, constructor_type_arguments=None, postfix_operators=[], prefix_operators=[], qualifier=None, selectors=[], type=ReferenceType(arguments=[], dimensions=None, name=Pair, sub_type=None)), label=None)\n",
      "\n",
      "ReturnStatement(expression=ClassCreator(arguments=[MemberReference(member=a, postfix_operators=[], prefix_operators=[], qualifier=, selectors=[]), MemberReference(member=b, postfix_operators=[], prefix_operators=[], qualifier=, selectors=[])], body=None, constructor_type_arguments=None, postfix_operators=[], prefix_operators=[], qualifier=None, selectors=[], type=ReferenceType(arguments=None, dimensions=None, name=Pair, sub_type=None)), label=None)\n",
      "False\n"
     ]
    }
   ],
   "source": [
    "tree2=javalang.parse.parse(AST2Code(root))\n",
    "idx=309 \n",
    "\n",
    "list_tree=[]\n",
    "list_tree2=[]\n",
    "for _,node in tree:\n",
    "    list_tree.append(node)\n",
    "for _,node in tree2:\n",
    "    list_tree2.append(node)\n",
    "\n",
    "print(list_tree[idx],end='\\n\\n')\n",
    "print(list_tree2[idx])\n",
    "print(str(list_tree[idx]) == str(list_tree2[idx]))"
   ]
  },
  {
   "cell_type": "code",
   "execution_count": null,
   "metadata": {},
   "outputs": [],
   "source": [
    "0 miss match\n",
    "227 miss match\n",
    "297 miss match\n",
    "309 miss match\n",
    "310 miss match\n",
    "311 miss match"
   ]
  },
  {
   "cell_type": "code",
   "execution_count": 661,
   "metadata": {},
   "outputs": [
    {
     "data": {
      "text/plain": [
       "'BIT'"
      ]
     },
     "execution_count": 661,
     "metadata": {},
     "output_type": "execute_result"
    }
   ],
   "source": [
    "list_tree2[349].name"
   ]
  },
  {
   "cell_type": "code",
   "execution_count": 649,
   "metadata": {},
   "outputs": [
    {
     "data": {
      "text/plain": [
       "ClassDeclaration(annotations=[], body=[MethodDeclaration(annotations=[], body=[IfStatement(condition=BinaryOperation(operandl=MemberReference(member=first, postfix_operators=[], prefix_operators=[], qualifier=a, selectors=[]), operandr=MemberReference(member=first, postfix_operators=[], prefix_operators=[], qualifier=b, selectors=[]), operator=!=), else_statement=None, label=None, then_statement=ReturnStatement(expression=BinaryOperation(operandl=Cast(expression=MemberReference(member=first, postfix_operators=[], prefix_operators=[], qualifier=a, selectors=[]), type=BasicType(dimensions=[], name=int)), operandr=Cast(expression=MemberReference(member=first, postfix_operators=[], prefix_operators=[], qualifier=b, selectors=[]), type=BasicType(dimensions=[], name=int)), operator=-), label=None)), IfStatement(condition=BinaryOperation(operandl=MemberReference(member=second, postfix_operators=[], prefix_operators=[], qualifier=a, selectors=[]), operandr=MemberReference(member=second, postfix_operators=[], prefix_operators=[], qualifier=b, selectors=[]), operator=!=), else_statement=None, label=None, then_statement=ReturnStatement(expression=BinaryOperation(operandl=Cast(expression=MemberReference(member=second, postfix_operators=[], prefix_operators=[], qualifier=a, selectors=[]), type=BasicType(dimensions=[], name=int)), operandr=Cast(expression=MemberReference(member=second, postfix_operators=[], prefix_operators=[], qualifier=b, selectors=[]), type=BasicType(dimensions=[], name=int)), operator=-), label=None)), ReturnStatement(expression=Literal(postfix_operators=[], prefix_operators=[], qualifier=None, selectors=[], value=0), label=None)], documentation=None, modifiers={'public'}, name=compare, parameters=[FormalParameter(annotations=[], modifiers=set(), name=a, type=ReferenceType(arguments=None, dimensions=[], name=Pair, sub_type=None), varargs=False), FormalParameter(annotations=[], modifiers=set(), name=b, type=ReferenceType(arguments=None, dimensions=[], name=Pair, sub_type=None), varargs=False)], return_type=BasicType(dimensions=[], name=int), throws=None, type_parameters=None)], documentation=None, extends=None, implements=[ReferenceType(arguments=[TypeArgument(pattern_type=None, type=ReferenceType(arguments=None, dimensions=[], name=Pair, sub_type=None))], dimensions=[], name=Comparator, sub_type=None)], modifiers=set(), name=myComp, type_parameters=None)"
      ]
     },
     "execution_count": 649,
     "metadata": {},
     "output_type": "execute_result"
    }
   ],
   "source": [
    "root.types[2]"
   ]
  },
  {
   "cell_type": "code",
   "execution_count": 662,
   "metadata": {},
   "outputs": [
    {
     "name": "stdout",
     "output_type": "stream",
     "text": [
      "0 miss match\n",
      "227 miss match\n",
      "297 miss match\n",
      "309 miss match\n",
      "310 miss match\n",
      "311 miss match\n"
     ]
    },
    {
     "data": {
      "text/plain": [
       "False"
      ]
     },
     "execution_count": 662,
     "metadata": {},
     "output_type": "execute_result"
    }
   ],
   "source": [
    "equal_test(tree)"
   ]
  },
  {
   "cell_type": "code",
   "execution_count": 666,
   "metadata": {},
   "outputs": [
    {
     "name": "stdout",
     "output_type": "stream",
     "text": [
      "import java.util.*;\n",
      "import java.io.*;\n",
      "public  class Main{\n",
      "static  class FastReader{\n",
      "BufferedReader br ;\n",
      "StringTokenizer st ;\n",
      "public FastReader(){\n",
      "br = new BufferedReader(new InputStreamReader(System.in));\n",
      "}\n",
      "String next(){\n",
      "while(((st == null) || !st.hasMoreElements())){try{st = new StringTokenizer(br.readLine());\n",
      "\n",
      "}catch (IOException e){\n",
      "e.printStackTrace();\n",
      "}\n",
      "}return st.nextToken();}\n",
      "int nextInt(){\n",
      "return Integer.parseInt(next());}\n",
      "long nextLong(){\n",
      "return Long.parseLong(next());}\n",
      "double nextDouble(){\n",
      "return Double.parseDouble(next());}\n",
      "float nextFloat(){\n",
      "return Float.parseFloat(next());}\n",
      "boolean nextBoolean(){\n",
      "return Boolean.parseBoolean(next());}\n",
      "String nextLine(){\n",
      "String str  = \"\"; \n",
      "try{str = br.readLine();\n",
      "\n",
      "}catch (IOException e){\n",
      "e.printStackTrace();\n",
      "}\n",
      "return str;}\n",
      "}static long modExp(long x,long n,long mod){\n",
      "long result  = 1; \n",
      "while((n > 0)){if ( ((n % 2) == 1))\n",
      "result = ((((result % mod) * x) % mod) % mod);\n",
      "\n",
      "x = ((((x % mod) * x) % mod) % mod);\n",
      "n = (n / 2);\n",
      "}return result;}\n",
      "static long gcd(long a,long b){\n",
      "if ( (a == 0))\n",
      "return b;\n",
      "return gcd((b % a),a);}\n",
      "static public void main(String[] args)throws IOException{\n",
      "FastReader fr  = new FastReader(); \n",
      "long n  = fr.nextLong(); \n",
      "long x  = fr.nextLong(); \n",
      "long y  = fr.nextLong(); \n",
      "long w  = (((Long.min(x,y) - 1) + (x - Long.min(x,y))) + (y - Long.min(x,y))); \n",
      "long b  = (((n - Long.max(x,y)) + (Long.max(x,y) - x)) + (Long.max(x,y) - y)); \n",
      "if ( (w <= b))\n",
      "System.out.println(\"White\");\n",
      "\n",
      "else System.out.println(\"Black\");\n",
      "}\n",
      "} class Pair<U,V>{\n",
      "public final U first ;\n",
      "public final V second ;\n",
      "private Pair(U first,V second){\n",
      "this.first = first;\n",
      "this.second = second;\n",
      "}\n",
      "@Override\n",
      "public boolean equals(Object o){\n",
      "if ( (this == o))\n",
      "return true;\n",
      "if ( ((o == null) || (getClass() != o.getClass())))\n",
      "return false;\n",
      "Pair<?,?> pair  = (Pair<?,?>)o; \n",
      "if ( !first.equals(pair.first))\n",
      "return false;\n",
      "return second.equals(pair.second);}\n",
      "@Override\n",
      "public int hashCode(){\n",
      "return ((31 * first.hashCode()) + second.hashCode());}\n",
      "static public <U,V> Pair<U,V> of(U a,V b){\n",
      "return new Pair(a,b);}\n",
      "} class myComp implements Comparator<Pair>{\n",
      "public int compare(Pair a,Pair b){\n",
      "if ( (a.first != b.first))\n",
      "return ((int)a.first - (int)b.first);\n",
      "if ( (a.second != b.second))\n",
      "return ((int)a.second - (int)b.second);\n",
      "return 0;}\n",
      "} class BIT{\n",
      "public long[] m_array ;\n",
      "public BIT(long[] dat){\n",
      "m_array = new long[(dat.length + 1)];\n",
      "Arrays.fill(m_array,0);\n",
      "for ( int i = 0;(i < dat.length);i++)\n",
      "{m_array[(i + 1)] = dat[i];\n",
      "}for ( int i = 1;(i < m_array.length);i++)\n",
      "{int j  = (i + (i & -i)); \n",
      "if ( (j < m_array.length))\n",
      "{m_array[j] = (m_array[j] + m_array[i]);\n",
      "}\n",
      "}}\n",
      "public final long prefix_query(int i){\n",
      "long result  = 0; \n",
      "for ( ++i;(i > 0);i = (i - (i & -i)))\n",
      "{result = (result + m_array[i]);\n",
      "}return result;}\n",
      "public final long range_query(int fro,int to){\n",
      "if ( (fro == 0))\n",
      "{return prefix_query(to);}\n",
      "else {return (prefix_query(to) - prefix_query((fro - 1)));}}\n",
      "public void update(int i,long add){\n",
      "for ( ++i;(i < m_array.length);i = (i + (i & -i)))\n",
      "{m_array[i] = (m_array[i] + add);\n",
      "}}\n",
      "}\n"
     ]
    }
   ],
   "source": [
    "print(AST2Code(root))"
   ]
  },
  {
   "cell_type": "code",
   "execution_count": 5,
   "metadata": {},
   "outputs": [],
   "source": [
    "def equal_test(tree1):\n",
    "\n",
    "    list_tree=[]\n",
    "    list_tree2=[]\n",
    "    root=tree.__iter__().__next__()[1]\n",
    "    tree2=javalang.parse.parse(AST2Code(root))\n",
    "    for _,node in tree1:\n",
    "        list_tree.append(node)\n",
    "    for _,node in tree2:\n",
    "        list_tree2.append(node)\n",
    "    \n",
    "    if len(list_tree) != len(list_tree2):\n",
    "        print('length miss match!')\n",
    "        return False\n",
    "    match=True\n",
    "    for idx in range(len(list_tree)):\n",
    "        if str(list_tree[idx]) != str(list_tree2[idx]):\n",
    "            print(f'{idx } miss match')\n",
    "            match=False\n",
    "    if match:\n",
    "        return True\n",
    "    else:\n",
    "        return False\n",
    "            \n",
    "    "
   ]
  },
  {
   "cell_type": "code",
   "execution_count": 6,
   "metadata": {},
   "outputs": [],
   "source": [
    "def AST2Code(root):\n",
    "    code=''\n",
    "    for import_item in root.imports:\n",
    "        code+= 'import '+('static ' if import_item.static else '') +import_item.path+ ('.*' if import_item.wildcard else '') + ';\\n'\n",
    "    childs=root.types\n",
    "    for child in root.types:\n",
    "        code+=func_dict[type(child).__name__](child)\n",
    "    return code"
   ]
  },
  {
   "cell_type": "code",
   "execution_count": 7,
   "metadata": {},
   "outputs": [],
   "source": [
    "def Nonetype(node):\n",
    "    return ''"
   ]
  },
  {
   "cell_type": "code",
   "execution_count": 72,
   "metadata": {},
   "outputs": [],
   "source": [
    "def FieldDeclaration2Code(node):\n",
    "    code_snippet=''\n",
    "    for modifier in node.modifiers:\n",
    "        code_snippet+=modifier+' '\n",
    "    code_snippet+=Type2Code(node.type)+' '\n",
    "    for declarator in node.declarators:\n",
    "        code_snippet+= func_dict[type(declarator).__name__](declarator)+','\n",
    "    code_snippet=code_snippet.rstrip(',')\n",
    "\n",
    "    return code_snippet+';\\n'"
   ]
  },
  {
   "cell_type": "code",
   "execution_count": 9,
   "metadata": {},
   "outputs": [],
   "source": [
    "def WhileStatement2Code(node):\n",
    "    code_snippet='while('+func_dict[type(node.condition).__name__](node.condition)+')'\n",
    "    code_snippet+=func_dict[type(node.body).__name__](node.body)\n",
    "    return code_snippet"
   ]
  },
  {
   "cell_type": "code",
   "execution_count": 181,
   "metadata": {},
   "outputs": [],
   "source": [
    "def ConstructorDeclaration2Code(node):\n",
    "    code_snippet=''\n",
    "    for modifier in node.modifiers:\n",
    "        code_snippet+=' '+modifier\n",
    "    code_snippet+=' '+ node.name\n",
    "    code_snippet=code_snippet.lstrip()\n",
    "    paramter=''\n",
    "    for pram in node.parameters:\n",
    "        paramter+=pram.type.name + ('[]'*len(pram.type.dimensions)) +' '+ pram.name +','\n",
    "    code_snippet+='('+paramter.rstrip(',')+')'\n",
    "    code_snippet+= ('throws ' +','.join(node.throws) if node.throws else '')\n",
    "    code_snippet+='{\\n'\n",
    "    for child in node.body:\n",
    "        code_snippet+= func_dict[type(child).__name__](child)\n",
    "    return code_snippet+'}\\n'"
   ]
  },
  {
   "cell_type": "code",
   "execution_count": 659,
   "metadata": {},
   "outputs": [],
   "source": [
    "def ClassDeclaration2Code(node):\n",
    "    code_snippet=(node.documentation+'\\n' if node.documentation else '')\n",
    "    \n",
    "    for modifier in node.modifiers:\n",
    "        code_snippet+=modifier+' ' \n",
    "    code_snippet+=' class '+node.name\n",
    "    if node.type_parameters:\n",
    "        code_snippet+='<'\n",
    "        for param in node.type_parameters:\n",
    "            code_snippet+=param.name+','\n",
    "        \n",
    "        code_snippet=code_snippet.rstrip(',') +'>'\n",
    "    if node.implements:\n",
    "        code_snippet+=' implements '\n",
    "        for implement in node.implements:\n",
    "            code_snippet+=Type2Code(implement)\n",
    "    code_snippet+='{\\n'\n",
    "    \n",
    "    for class_item in node.body:\n",
    "        code_snippet+=func_dict[type(class_item).__name__](class_item)\n",
    "\n",
    "    return code_snippet+\"}\""
   ]
  },
  {
   "cell_type": "code",
   "execution_count": 609,
   "metadata": {},
   "outputs": [],
   "source": [
    "def MethodDeclaration2Code(node):\n",
    "    code_snippet=(node.documentation+'\\n' if node.documentation else '')\n",
    "    if node.annotations:\n",
    "        for annotation in node.annotations:\n",
    "            code_snippet+='@'+annotation.name+'\\n'\n",
    "    for modifier in node.modifiers:\n",
    "        code_snippet+=modifier+' ' \n",
    "    if node.type_parameters:\n",
    "        code_snippet+='<'\n",
    "        for type_param in node.type_parameters:\n",
    "            code_snippet+=type_param.name+','\n",
    "        code_snippet=code_snippet.rstrip(',')+'> '\n",
    "        \n",
    "    code_snippet+=(Type2Code(node.return_type) if node.return_type else 'void')+' '+node.name+'('\n",
    "    paramter=''\n",
    "    for pram in node.parameters:\n",
    "        paramter+=pram.type.name + ('[]'*len(pram.type.dimensions)) +' '+ pram.name +','\n",
    "\n",
    "    code_snippet+= paramter.rstrip(',')+')'+('throws ' +','.join(node.throws) if node.throws else '')+'{\\n'\n",
    "\n",
    "    \n",
    "    for method_item in node.body:\n",
    "        code_snippet+=func_dict[type(method_item).__name__](method_item)\n",
    "    return code_snippet+'}\\n'\n"
   ]
  },
  {
   "cell_type": "code",
   "execution_count": 13,
   "metadata": {},
   "outputs": [],
   "source": [
    "def LocalVariableDeclaration2Code(node):\n",
    "    code_snippet=Type2Code(node.type)+' '\n",
    "    for declarator in node.declarators:\n",
    "        code_snippet += func_dict[type(declarator).__name__](declarator) +','\n",
    "    code_snippet=code_snippet.rstrip(',')\n",
    "    return code_snippet+'; \\n'"
   ]
  },
  {
   "cell_type": "code",
   "execution_count": 14,
   "metadata": {},
   "outputs": [],
   "source": [
    "def VariableDeclarator2Code(node):\n",
    "    code_snippet=node.name\n",
    "    code_snippet+=('[]'*len(node.dimensions) if node.dimensions else '')+' ' \n",
    "    \n",
    "    if node.initializer:\n",
    "        code_snippet+= ' = '+func_dict[type(node.initializer).__name__](node.initializer)\n",
    "    return code_snippet#+';\\n'"
   ]
  },
  {
   "cell_type": "code",
   "execution_count": 257,
   "metadata": {},
   "outputs": [],
   "source": [
    "def VariableDeclaration2Code(node):\n",
    "\n",
    "    code_snippet=''\n",
    "    code_snippet+=Type2Code(node.type)+' '\n",
    "    operandr=''\n",
    "    operandl=''\n",
    "\n",
    "    for declarator in node.declarators:\n",
    "        operandr+=declarator.name +','\n",
    "        operandl += func_dict[type(declarator.initializer).__name__](declarator.initializer)+','\n",
    "\n",
    "    code_snippet +=operandr.rstrip(',')+' = '+operandl.rstrip(',')\n",
    "    return code_snippet#+';\\n'\n",
    "    "
   ]
  },
  {
   "cell_type": "code",
   "execution_count": 582,
   "metadata": {},
   "outputs": [],
   "source": [
    "def Type2Code(node):\n",
    "    # print(node)\n",
    "    if type(node).__name__ == 'BasicType':\n",
    "        return node.name +('[]'*len(node.dimensions) if node.dimensions else '')\n",
    "    elif type(node).__name__ == 'ReferenceType':\n",
    "        code_snippet=node.name +('[]'*len(node.dimensions) if node.dimensions else '')\n",
    "        # if node.name in ['HashMap','HashSet']:\n",
    "        if node.arguments:\n",
    "            code_snippet+='<'\n",
    "            for arg in node.arguments:\n",
    "                if arg.pattern_type:\n",
    "                    code_snippet+=arg.pattern_type+','\n",
    "                if arg.type:\n",
    "                    code_snippet+=Type2Code(arg.type)+','\n",
    "            code_snippet=code_snippet.rstrip(',')+'>'\n",
    "\n",
    "        return code_snippet"
   ]
  },
  {
   "cell_type": "code",
   "execution_count": 549,
   "metadata": {},
   "outputs": [],
   "source": [
    "def ClassCreator2Code(node):# 미완\n",
    "    \n",
    "    argments='('\n",
    "    for arg in node.arguments:\n",
    "        argments+=func_dict[type(arg).__name__](arg)+','\n",
    "    \n",
    "    argments=argments.rstrip(',')+')'\n",
    "    code_snippet='new '+Type2Code(node.type)+argments\n",
    "    return code_snippet"
   ]
  },
  {
   "cell_type": "code",
   "execution_count": 88,
   "metadata": {},
   "outputs": [],
   "source": [
    "def MemberReference2Code(node):\n",
    "    \n",
    "    code_snippet=(''.join(node.prefix_operators) if node.prefix_operators else '')+(node.qualifier+'.' if node.qualifier else '')+node.member \n",
    "    selector=''\n",
    "    if node.selectors:\n",
    "        for index in node.selectors:\n",
    "            selector+=func_dict[type(index).__name__](index)\n",
    "    code_snippet+=selector\n",
    "    return code_snippet+(''.join(node.postfix_operators) if node.postfix_operators else '')"
   ]
  },
  {
   "cell_type": "code",
   "execution_count": 275,
   "metadata": {},
   "outputs": [],
   "source": [
    "def ForStatement2Code(node):\n",
    "    code_snippet='for ( '\n",
    "    control= node.control\n",
    "    if node.control.init:\n",
    "        if type(node.control.init) == list:\n",
    "            code_snippet+= ''.join([func_dict[type(i).__name__](i).rstrip(';\\n') for i in node.control.init])\n",
    "        else:\n",
    "            code_snippet+=func_dict[type(node.control.init).__name__](node.control.init).rstrip(';\\n')\n",
    "    \n",
    "    code_snippet+=';'\n",
    "    if node.control.condition:\n",
    "        code_snippet+=func_dict[type(node.control.condition).__name__](node.control.condition)\n",
    "    code_snippet +=';'\n",
    "    if node.control.update:\n",
    "        for update in node.control.update:\n",
    "            code_snippet+=func_dict[type(update).__name__](update)\n",
    "    code_snippet+= ')\\n'\n",
    "    \n",
    "    code_snippet+= func_dict[type(node.body).__name__](node.body)\n",
    "        \n",
    "    return code_snippet"
   ]
  },
  {
   "cell_type": "code",
   "execution_count": 20,
   "metadata": {},
   "outputs": [],
   "source": [
    "def IfStatement2Code(node):\n",
    "    code_snippet='if ( '\n",
    "    code_snippet+= func_dict[type(node.condition).__name__](node.condition)+')'\n",
    "    code_snippet+='\\n'+func_dict[type(node.then_statement).__name__](node.then_statement)+'\\n'\n",
    "    if node.else_statement:\n",
    "        code_snippet+='else '+func_dict[type(node.else_statement).__name__](node.else_statement)\n",
    "    return code_snippet\n",
    "    \n",
    "    "
   ]
  },
  {
   "cell_type": "code",
   "execution_count": 21,
   "metadata": {},
   "outputs": [],
   "source": [
    "def BlockStatement2Code(node):\n",
    "    code_snippet=\"{\"\n",
    "    for block_item in node.statements:\n",
    "        code_snippet+=func_dict[type(block_item).__name__](block_item)\n",
    "    code_snippet+=\"}\"\n",
    "    return code_snippet\n",
    "    "
   ]
  },
  {
   "cell_type": "code",
   "execution_count": 22,
   "metadata": {},
   "outputs": [],
   "source": [
    "def BinaryOperation2Code(node):\n",
    "    code_snippet=func_dict[type(node.operandl).__name__](node.operandl)\n",
    "    code_snippet+=' ' +node.operator +' '\n",
    "    code_snippet+=func_dict[type(node.operandr).__name__](node.operandr)\n",
    "    return '('+code_snippet+')'"
   ]
  },
  {
   "cell_type": "code",
   "execution_count": 481,
   "metadata": {},
   "outputs": [],
   "source": [
    "def Literal2Code(node):\n",
    "\n",
    "    prefix=''.join(node.prefix_operators if node.prefix_operators else '')\n",
    "    postfix=''.join(node.postfix_operators if node.postfix_operators else '')\n",
    "\n",
    "    return prefix+node.value+postfix"
   ]
  },
  {
   "cell_type": "code",
   "execution_count": 24,
   "metadata": {},
   "outputs": [],
   "source": [
    "def ArrayCreator2Code(node):\n",
    "    code_snippet='new '\n",
    "    code_snippet+= Type2Code(node.type)\n",
    "    for dim in node.dimensions:\n",
    "        code_snippet+= '['+func_dict[type(dim).__name__](dim)+']'\n",
    "    return code_snippet"
   ]
  },
  {
   "cell_type": "code",
   "execution_count": 25,
   "metadata": {},
   "outputs": [],
   "source": [
    "def Cast2Code(node):\n",
    "    code_snippet='('+Type2Code(node.type)+')'\n",
    "    code_snippet+=func_dict[type(node.expression).__name__](node.expression)\n",
    "    return code_snippet"
   ]
  },
  {
   "cell_type": "code",
   "execution_count": 26,
   "metadata": {},
   "outputs": [],
   "source": [
    "def StatementExpression2Code(node):\n",
    "    code_snippet=''\n",
    "    # print(node)\n",
    "    code_snippet+=func_dict[type(node.expression).__name__](node.expression)\n",
    "    return code_snippet+';\\n'"
   ]
  },
  {
   "cell_type": "code",
   "execution_count": 27,
   "metadata": {},
   "outputs": [],
   "source": [
    "def Assignment2Code(node):\n",
    "    code_snippet=func_dict[type(node.expressionl).__name__](node.expressionl)\n",
    "\n",
    "    code_snippet+=' ' +node.type+' '\n",
    "    code_snippet+= func_dict[type(node.value).__name__](node.value)\n",
    "    return code_snippet"
   ]
  },
  {
   "cell_type": "code",
   "execution_count": 529,
   "metadata": {},
   "outputs": [],
   "source": [
    "def MethodInvocation2Code(node):\n",
    "    code_snippet=(node.qualifier+'.' if node.qualifier else '')\n",
    "    code_snippet+=node.member+'('\n",
    "    args=''\n",
    "    \n",
    "    for arg in node.arguments:\n",
    "        args+=func_dict[type(arg).__name__](arg)+','\n",
    "    code_snippet+=args.rstrip(',')+')'\n",
    "    if node.selectors:\n",
    "        for s in node.selectors:\n",
    "            if not type(s).__name__ in ['ArraySelector']:\n",
    "                code_snippet+= '.'\n",
    "            code_snippet+=func_dict[type(s).__name__](s)\n",
    "    prefix_operators=node.prefix_operators if node.prefix_operators else []\n",
    "    postfix_operators=node.postfix_operators if node.postfix_operators else []\n",
    "    \n",
    "    return ''.join(prefix_operators)+code_snippet+''.join(postfix_operators)"
   ]
  },
  {
   "cell_type": "code",
   "execution_count": 29,
   "metadata": {},
   "outputs": [],
   "source": [
    "def ArraySelector2Code(node):\n",
    "    code_snippet='['\n",
    "    code_snippet+=func_dict[type(node.index).__name__](node.index)\n",
    "    code_snippet+=']'\n",
    "    return code_snippet"
   ]
  },
  {
   "cell_type": "code",
   "execution_count": 30,
   "metadata": {},
   "outputs": [],
   "source": [
    "def ReturnStatement2Code(node):\n",
    "    return 'return '+func_dict[type(node.expression).__name__](node.expression)+';'"
   ]
  },
  {
   "cell_type": "code",
   "execution_count": 31,
   "metadata": {},
   "outputs": [],
   "source": [
    "def TryStatement2Code(node):\n",
    "    code_snippet='try'\n",
    "    if node.resources:\n",
    "        code_snippet+='('\n",
    "        for resource in node.resources:\n",
    "            code_snippet+=func_dict[type(resource).__name__](resource)\n",
    "        code_snippet+=')'\n",
    "        \n",
    "    code_snippet+='{'\n",
    "    for b in node.block:\n",
    "        code_snippet+=func_dict[type(b).__name__](b)\n",
    "    code_snippet+='\\n}'\n",
    "    if node.catches:\n",
    "        for catch in node.catches:\n",
    "            code_snippet+= func_dict[type(catch).__name__](catch)\n",
    "    return code_snippet"
   ]
  },
  {
   "cell_type": "code",
   "execution_count": 32,
   "metadata": {},
   "outputs": [],
   "source": [
    "def CatchClause2Code(node):\n",
    "\n",
    "    code_snippet= 'catch ('+func_dict[type(node.parameter).__name__](node.parameter) +')'\n",
    "    code_snippet+='{\\n'\n",
    "    for catch_block in node.block:\n",
    "        code_snippet+=func_dict[type(catch_block).__name__](catch_block)\n",
    "    code_snippet+='}\\n'\n",
    "\n",
    "    return code_snippet"
   ]
  },
  {
   "cell_type": "code",
   "execution_count": 33,
   "metadata": {},
   "outputs": [],
   "source": [
    "def CatchClauseParameter2Code(node):\n",
    "    code_snippet=''\n",
    "    for p in node.types:\n",
    "        code_snippet+=p+' '\n",
    "    code_snippet+=node.name\n",
    "    return code_snippet"
   ]
  },
  {
   "cell_type": "code",
   "execution_count": 34,
   "metadata": {},
   "outputs": [],
   "source": [
    "def ThrowStatement2Code(node):\n",
    "    code_snippet='throw ('\n",
    "    code_snippet+=func_dict[type(node.expression).__name__](node.expression)\n",
    "    code_snippet+=')'\n",
    "    return code_snippet +';'"
   ]
  },
  {
   "cell_type": "code",
   "execution_count": 36,
   "metadata": {},
   "outputs": [],
   "source": [
    "def TryResource2Code(node):\n",
    "    code_snippet=Type2Code(node.type)+' '\n",
    "    code_snippet+= node.name\n",
    "\n",
    "    code_snippet+='='+func_dict[type(node.value).__name__](node.value)\n",
    "    return code_snippet\n",
    "    "
   ]
  },
  {
   "cell_type": "code",
   "execution_count": 91,
   "metadata": {},
   "outputs": [],
   "source": [
    "def This2Code(node):\n",
    "    code_snippet='this'\n",
    "    for s in node.selectors:\n",
    "        code_snippet+= '.'+func_dict[type(s).__name__](s)\n",
    "    return code_snippet"
   ]
  },
  {
   "cell_type": "code",
   "execution_count": 450,
   "metadata": {},
   "outputs": [],
   "source": [
    "def TernaryExpression2Code(node):\n",
    "    code_snippet='('\n",
    "    if node.condition:\n",
    "        code_snippet+=func_dict[type(node.condition).__name__](node.condition)\n",
    "    code_snippet+='?'\n",
    "    if node.if_true:\n",
    "        code_snippet+=func_dict[type(node.if_true).__name__](node.if_true)\n",
    "    code_snippet+=':'\n",
    "    if node.if_false:\n",
    "        code_snippet+=func_dict[type(node.if_false).__name__](node.if_false)\n",
    "    code_snippet+=')'\n",
    "    return code_snippet\n",
    "    "
   ]
  },
  {
   "cell_type": "code",
   "execution_count": 466,
   "metadata": {},
   "outputs": [],
   "source": [
    "def BreakStatement2Code(node):\n",
    "    code_snippet='break'\n",
    "    return code_snippet+';'"
   ]
  }
 ],
 "metadata": {
  "interpreter": {
   "hash": "1d0c3caab67cdc3cb671aad33f4d3ea243842a14d4ea407190d5b54cd82f317a"
  },
  "kernelspec": {
   "display_name": "Python 3.8.3 64-bit ('base': conda)",
   "language": "python",
   "name": "python3"
  },
  "language_info": {
   "codemirror_mode": {
    "name": "ipython",
    "version": 3
   },
   "file_extension": ".py",
   "mimetype": "text/x-python",
   "name": "python",
   "nbconvert_exporter": "python",
   "pygments_lexer": "ipython3",
   "version": "3.7.11"
  },
  "orig_nbformat": 4
 },
 "nbformat": 4,
 "nbformat_minor": 2
}
